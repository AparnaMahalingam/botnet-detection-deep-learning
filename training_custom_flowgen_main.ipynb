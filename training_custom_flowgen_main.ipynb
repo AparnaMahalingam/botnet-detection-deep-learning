{
 "cells": [
  {
   "cell_type": "markdown",
   "metadata": {},
   "source": [
    "# Custom Flow-gen for Training dataset -- Model creation - Botnet Detection"
   ]
  },
  {
   "cell_type": "code",
   "execution_count": 1,
   "metadata": {
    "collapsed": false
   },
   "outputs": [
    {
     "name": "stdout",
     "output_type": "stream",
     "text": [
      "This non-commercial license of GraphLab Create for academic use is assigned to aparna.mahalingam@sjsu.edu and will expire on April 06, 2019.\n"
     ]
    },
    {
     "name": "stderr",
     "output_type": "stream",
     "text": [
      "[INFO] graphlab.cython.cy_server: GraphLab Create v2.1 started. Logging: /tmp/graphlab_server_1525929112.log\n"
     ]
    }
   ],
   "source": [
    "import graphlab as gl\n",
    "import tensorflow as tf\n",
    "import matplotlib.pyplot as plt"
   ]
  },
  {
   "cell_type": "code",
   "execution_count": 2,
   "metadata": {
    "collapsed": false
   },
   "outputs": [
    {
     "data": {
      "text/plain": [
       "'/home/aparna/Desktop/botnet_detection'"
      ]
     },
     "execution_count": 2,
     "metadata": {},
     "output_type": "execute_result"
    }
   ],
   "source": [
    "import os\n",
    "import sys, re\n",
    "\n",
    "os.getcwd()"
   ]
  },
  {
   "cell_type": "code",
   "execution_count": 3,
   "metadata": {
    "collapsed": false
   },
   "outputs": [
    {
     "data": {
      "text/html": [
       "<pre>Finished parsing file /home/aparna/Desktop/botnet_detection/ISCX_Botnet-Training.csv</pre>"
      ],
      "text/plain": [
       "Finished parsing file /home/aparna/Desktop/botnet_detection/ISCX_Botnet-Training.csv"
      ]
     },
     "metadata": {},
     "output_type": "display_data"
    },
    {
     "data": {
      "text/html": [
       "<pre>Parsing completed. Parsed 100 lines in 8.46163 secs.</pre>"
      ],
      "text/plain": [
       "Parsing completed. Parsed 100 lines in 8.46163 secs."
      ]
     },
     "metadata": {},
     "output_type": "display_data"
    },
    {
     "name": "stdout",
     "output_type": "stream",
     "text": [
      "------------------------------------------------------\n",
      "Inferred types from first 100 line(s) of file as \n",
      "column_type_hints=[int,float,str,str,int,str,str,str,str,str,str,str,str,str,str,str,str,str,str,str,str,str,str,str,str,int]\n",
      "If parsing fails due to incorrect types, you can correct\n",
      "the inferred type list above and pass it to read_csv in\n",
      "the column_type_hints argument\n",
      "------------------------------------------------------\n"
     ]
    },
    {
     "data": {
      "text/html": [
       "<pre>Read 207809 lines. Lines per second: 26992.1</pre>"
      ],
      "text/plain": [
       "Read 207809 lines. Lines per second: 26992.1"
      ]
     },
     "metadata": {},
     "output_type": "display_data"
    },
    {
     "data": {
      "text/html": [
       "<pre>Read 622854 lines. Lines per second: 39411.6</pre>"
      ],
      "text/plain": [
       "Read 622854 lines. Lines per second: 39411.6"
      ]
     },
     "metadata": {},
     "output_type": "display_data"
    },
    {
     "data": {
      "text/html": [
       "<pre>Read 1055319 lines. Lines per second: 43698.5</pre>"
      ],
      "text/plain": [
       "Read 1055319 lines. Lines per second: 43698.5"
      ]
     },
     "metadata": {},
     "output_type": "display_data"
    },
    {
     "data": {
      "text/html": [
       "<pre>Read 1478522 lines. Lines per second: 46697.4</pre>"
      ],
      "text/plain": [
       "Read 1478522 lines. Lines per second: 46697.4"
      ]
     },
     "metadata": {},
     "output_type": "display_data"
    },
    {
     "data": {
      "text/html": [
       "<pre>Read 1839453 lines. Lines per second: 47932.3</pre>"
      ],
      "text/plain": [
       "Read 1839453 lines. Lines per second: 47932.3"
      ]
     },
     "metadata": {},
     "output_type": "display_data"
    },
    {
     "data": {
      "text/html": [
       "<pre>Read 2223241 lines. Lines per second: 48751.9</pre>"
      ],
      "text/plain": [
       "Read 2223241 lines. Lines per second: 48751.9"
      ]
     },
     "metadata": {},
     "output_type": "display_data"
    },
    {
     "data": {
      "text/html": [
       "<pre>Read 2584004 lines. Lines per second: 49096</pre>"
      ],
      "text/plain": [
       "Read 2584004 lines. Lines per second: 49096"
      ]
     },
     "metadata": {},
     "output_type": "display_data"
    },
    {
     "data": {
      "text/html": [
       "<pre>Read 2938040 lines. Lines per second: 49571.5</pre>"
      ],
      "text/plain": [
       "Read 2938040 lines. Lines per second: 49571.5"
      ]
     },
     "metadata": {},
     "output_type": "display_data"
    },
    {
     "data": {
      "text/html": [
       "<pre>Read 3293912 lines. Lines per second: 49523.8</pre>"
      ],
      "text/plain": [
       "Read 3293912 lines. Lines per second: 49523.8"
      ]
     },
     "metadata": {},
     "output_type": "display_data"
    },
    {
     "data": {
      "text/html": [
       "<pre>Read 3683028 lines. Lines per second: 49904.7</pre>"
      ],
      "text/plain": [
       "Read 3683028 lines. Lines per second: 49904.7"
      ]
     },
     "metadata": {},
     "output_type": "display_data"
    },
    {
     "data": {
      "text/html": [
       "<pre>Read 4077284 lines. Lines per second: 50011.8</pre>"
      ],
      "text/plain": [
       "Read 4077284 lines. Lines per second: 50011.8"
      ]
     },
     "metadata": {},
     "output_type": "display_data"
    },
    {
     "data": {
      "text/html": [
       "<pre>Read 4475531 lines. Lines per second: 50202.8</pre>"
      ],
      "text/plain": [
       "Read 4475531 lines. Lines per second: 50202.8"
      ]
     },
     "metadata": {},
     "output_type": "display_data"
    },
    {
     "data": {
      "text/html": [
       "<pre>Read 4866705 lines. Lines per second: 50056.3</pre>"
      ],
      "text/plain": [
       "Read 4866705 lines. Lines per second: 50056.3"
      ]
     },
     "metadata": {},
     "output_type": "display_data"
    },
    {
     "data": {
      "text/html": [
       "<pre>Read 5258288 lines. Lines per second: 50313.9</pre>"
      ],
      "text/plain": [
       "Read 5258288 lines. Lines per second: 50313.9"
      ]
     },
     "metadata": {},
     "output_type": "display_data"
    },
    {
     "data": {
      "text/html": [
       "<pre>Read 5650257 lines. Lines per second: 50323.9</pre>"
      ],
      "text/plain": [
       "Read 5650257 lines. Lines per second: 50323.9"
      ]
     },
     "metadata": {},
     "output_type": "display_data"
    },
    {
     "data": {
      "text/html": [
       "<pre>Read 6045980 lines. Lines per second: 50539.3</pre>"
      ],
      "text/plain": [
       "Read 6045980 lines. Lines per second: 50539.3"
      ]
     },
     "metadata": {},
     "output_type": "display_data"
    },
    {
     "data": {
      "text/html": [
       "<pre>Read 6434955 lines. Lines per second: 50504.2</pre>"
      ],
      "text/plain": [
       "Read 6434955 lines. Lines per second: 50504.2"
      ]
     },
     "metadata": {},
     "output_type": "display_data"
    },
    {
     "data": {
      "text/html": [
       "<pre>Read 6823702 lines. Lines per second: 50594.6</pre>"
      ],
      "text/plain": [
       "Read 6823702 lines. Lines per second: 50594.6"
      ]
     },
     "metadata": {},
     "output_type": "display_data"
    },
    {
     "data": {
      "text/html": [
       "<pre>Read 7215401 lines. Lines per second: 50629</pre>"
      ],
      "text/plain": [
       "Read 7215401 lines. Lines per second: 50629"
      ]
     },
     "metadata": {},
     "output_type": "display_data"
    },
    {
     "data": {
      "text/html": [
       "<pre>Read 7608512 lines. Lines per second: 50647.7</pre>"
      ],
      "text/plain": [
       "Read 7608512 lines. Lines per second: 50647.7"
      ]
     },
     "metadata": {},
     "output_type": "display_data"
    },
    {
     "data": {
      "text/html": [
       "<pre>Read 7996137 lines. Lines per second: 50312.1</pre>"
      ],
      "text/plain": [
       "Read 7996137 lines. Lines per second: 50312.1"
      ]
     },
     "metadata": {},
     "output_type": "display_data"
    },
    {
     "data": {
      "text/html": [
       "<pre>Read 8373146 lines. Lines per second: 50204.6</pre>"
      ],
      "text/plain": [
       "Read 8373146 lines. Lines per second: 50204.6"
      ]
     },
     "metadata": {},
     "output_type": "display_data"
    },
    {
     "data": {
      "text/html": [
       "<pre>Read 8771208 lines. Lines per second: 50271.2</pre>"
      ],
      "text/plain": [
       "Read 8771208 lines. Lines per second: 50271.2"
      ]
     },
     "metadata": {},
     "output_type": "display_data"
    },
    {
     "data": {
      "text/html": [
       "<pre>Read 9168021 lines. Lines per second: 50289.4</pre>"
      ],
      "text/plain": [
       "Read 9168021 lines. Lines per second: 50289.4"
      ]
     },
     "metadata": {},
     "output_type": "display_data"
    },
    {
     "data": {
      "text/html": [
       "<pre>Finished parsing file /home/aparna/Desktop/botnet_detection/ISCX_Botnet-Training.csv</pre>"
      ],
      "text/plain": [
       "Finished parsing file /home/aparna/Desktop/botnet_detection/ISCX_Botnet-Training.csv"
      ]
     },
     "metadata": {},
     "output_type": "display_data"
    },
    {
     "data": {
      "text/html": [
       "<pre>Parsing completed. Parsed 9388270 lines in 184.567 secs.</pre>"
      ],
      "text/plain": [
       "Parsing completed. Parsed 9388270 lines in 184.567 secs."
      ]
     },
     "metadata": {},
     "output_type": "display_data"
    },
    {
     "name": "stdout",
     "output_type": "stream",
     "text": [
      "<bound method SFrame.head of Columns:\n",
      "\tNo.\tint\n",
      "\tTime\tfloat\n",
      "\tSource\tstr\n",
      "\tProtocol\tstr\n",
      "\tLength\tint\n",
      "\tSource Port\tstr\n",
      "\tDestination\tstr\n",
      "\tDestination Port\tstr\n",
      "\tudp_Length\tstr\n",
      "\tProtocols in frame\tstr\n",
      "\tInfo\tstr\n",
      "\tDifferentiated Services Field\tstr\n",
      "\tSequence number\tstr\n",
      "\tNext sequence number\tstr\n",
      "\tIP_Flags\tstr\n",
      "\ttcp_Flags\tstr\n",
      "\tAnswer RRs\tstr\n",
      "\tSource GeoIP Country\tstr\n",
      "\tSource GeoIP Latitude\tstr\n",
      "\tSource GeoIP Longitude\tstr\n",
      "\tDestination GeoIP Country\tstr\n",
      "\tDestination GeoIP Latitude\tstr\n",
      "\tDestination GeoIP Longitude\tstr\n",
      "\tTCP Segment Len\tstr\n",
      "\tTime to live\tstr\n",
      "\tNew Column\tint\n",
      "\n",
      "Rows: 9388270\n",
      "\n",
      "Data:\n",
      "+-----+------------+-------------------+----------+--------+-------------+\n",
      "| No. |    Time    |       Source      | Protocol | Length | Source Port |\n",
      "+-----+------------+-------------------+----------+--------+-------------+\n",
      "|  1  |    0.0     |   Cisco_db:19:c3  |   ARP    |   60   |             |\n",
      "|  2  |  8.982709  |   Cisco_db:19:c3  |   ARP    |   60   |             |\n",
      "|  3  | 50.099564  |   Cisco_db:19:c3  |   ARP    |   60   |             |\n",
      "|  4  | 50.369266  | 54:52:00:00:00:01 |   ARP    |   60   |             |\n",
      "|  5  | 51.369054  | 54:52:00:00:00:01 |   ARP    |   60   |             |\n",
      "|  6  | 52.369688  | 54:52:00:00:00:01 |   ARP    |   60   |             |\n",
      "|  7  |  53.08684  |   Cisco_db:19:c3  |   ARP    |   60   |             |\n",
      "|  8  | 59.086131  |   Cisco_db:19:c3  |   ARP    |   60   |             |\n",
      "|  9  | 160.084662 | PcsCompu_b5:b7:19 |   ARP    |   60   |             |\n",
      "|  10 | 160.084668 | PcsCompu_b5:b7:19 |   ARP    |   60   |             |\n",
      "+-----+------------+-------------------+----------+--------+-------------+\n",
      "+-------------+------------------+------------+--------------------+\n",
      "| Destination | Destination Port | udp_Length | Protocols in frame |\n",
      "+-------------+------------------+------------+--------------------+\n",
      "|  Broadcast  |                  |            | eth:ethertype:arp  |\n",
      "|  Broadcast  |                  |            | eth:ethertype:arp  |\n",
      "|  Broadcast  |                  |            | eth:ethertype:arp  |\n",
      "|  Broadcast  |                  |            | eth:ethertype:arp  |\n",
      "|  Broadcast  |                  |            | eth:ethertype:arp  |\n",
      "|  Broadcast  |                  |            | eth:ethertype:arp  |\n",
      "|  Broadcast  |                  |            | eth:ethertype:arp  |\n",
      "|  Broadcast  |                  |            | eth:ethertype:arp  |\n",
      "|  Broadcast  |                  |            | eth:ethertype:arp  |\n",
      "|  Broadcast  |                  |            | eth:ethertype:arp  |\n",
      "+-------------+------------------+------------+--------------------+\n",
      "+-------------------------------+-------------------------------+-----------------+\n",
      "|              Info             | Differentiated Services Field | Sequence number |\n",
      "+-------------------------------+-------------------------------+-----------------+\n",
      "| Who has 147.32.84.165? Tel... |                               |                 |\n",
      "| Who has 147.32.84.165? Tel... |                               |                 |\n",
      "| Who has 147.32.84.165? Tel... |                               |                 |\n",
      "| Who has 147.32.84.165? Tel... |                               |                 |\n",
      "| Who has 147.32.84.165? Tel... |                               |                 |\n",
      "| Who has 147.32.84.165? Tel... |                               |                 |\n",
      "| Who has 147.32.84.165? Tel... |                               |                 |\n",
      "| Who has 147.32.84.165? Tel... |                               |                 |\n",
      "| Gratuitous ARP for 147.32.... |                               |                 |\n",
      "| Gratuitous ARP for 147.32.... |                               |                 |\n",
      "+-------------------------------+-------------------------------+-----------------+\n",
      "+----------------------+----------+-----------+------------+----------------------+\n",
      "| Next sequence number | IP_Flags | tcp_Flags | Answer RRs | Source GeoIP Country |\n",
      "+----------------------+----------+-----------+------------+----------------------+\n",
      "|                      |          |           |            |                      |\n",
      "|                      |          |           |            |                      |\n",
      "|                      |          |           |            |                      |\n",
      "|                      |          |           |            |                      |\n",
      "|                      |          |           |            |                      |\n",
      "|                      |          |           |            |                      |\n",
      "|                      |          |           |            |                      |\n",
      "|                      |          |           |            |                      |\n",
      "|                      |          |           |            |                      |\n",
      "|                      |          |           |            |                      |\n",
      "+----------------------+----------+-----------+------------+----------------------+\n",
      "+-----------------------+------------------------+-----+\n",
      "| Source GeoIP Latitude | Source GeoIP Longitude | ... |\n",
      "+-----------------------+------------------------+-----+\n",
      "|                       |                        | ... |\n",
      "|                       |                        | ... |\n",
      "|                       |                        | ... |\n",
      "|                       |                        | ... |\n",
      "|                       |                        | ... |\n",
      "|                       |                        | ... |\n",
      "|                       |                        | ... |\n",
      "|                       |                        | ... |\n",
      "|                       |                        | ... |\n",
      "|                       |                        | ... |\n",
      "+-----------------------+------------------------+-----+\n",
      "[9388270 rows x 26 columns]\n",
      "Note: Only the head of the SFrame is printed.\n",
      "You can use print_rows(num_rows=m, num_columns=n) to print more rows and columns.>\n"
     ]
    }
   ],
   "source": [
    "# Training dataset used: ISCX_Botnet-Training.csv (after extracting all the raw features from Wireshark)\n",
    "SF_tr = gl.SFrame.read_csv('ISCX_Botnet-Training.csv')\n",
    "print SF_tr.head"
   ]
  },
  {
   "cell_type": "code",
   "execution_count": 4,
   "metadata": {
    "collapsed": true
   },
   "outputs": [],
   "source": [
    "SF_tr = SF_tr[ (SF_tr['Source Port'] != '') & (SF_tr['Destination Port'] != '') ]\n",
    "# removing all empty cells from the src-dst port columns"
   ]
  },
  {
   "cell_type": "code",
   "execution_count": 5,
   "metadata": {
    "collapsed": false
   },
   "outputs": [],
   "source": [
    "# converting to base-16 integers (hex values)\n",
    "SF_tr['tcp_Flags'] = SF_tr['tcp_Flags'].apply(lambda x:int(x, 16) if x != '' else 0)"
   ]
  },
  {
   "cell_type": "code",
   "execution_count": 6,
   "metadata": {
    "collapsed": false
   },
   "outputs": [
    {
     "name": "stdout",
     "output_type": "stream",
     "text": [
      "['ANSI C12.22', 'ASAP', 'ATH', 'ATMTCP', 'AX4000', 'BAT_VIS', 'BROWSER', 'BitTorrent', 'CAT-TP', 'CLASSIC-STUN', 'DCERPC', 'DHCP', 'DHCPv6', 'DIAMETER', 'DNS', 'ECHO', 'ECMP', 'EGD', 'ESP', 'FF', 'FTP', 'FTP-DATA', 'FTP-DATA/XML', 'GPRS-NS', 'GTP', 'Gnutella', 'H.225.0', 'H1', 'HTTP', 'HTTP/XML', 'ICMP', 'IEEE 802.15.4', 'IMAP', 'IPv6', 'IRC', 'LANMAN', 'LISP', 'LLC', 'LLMNR', 'Laplink', 'MDNS', 'MIH', 'MQTT', 'MSMMS', 'MSNMS', 'MiNT', 'NBNS', 'NBSS', 'NDPS', 'NTP', 'Omni-Path', 'PCEP', 'PKIX-CRL', 'PKTC', 'POP', 'Pathport', 'QUAKE', 'QUAKE3', 'QUAKEWORLD', 'RMI', 'RSIP', 'RTCP', 'RTMP', 'SIGCOMP', 'SIP', 'SMB', 'SMTP', 'SMTP|IMF', 'SNMP', 'SSDP', 'SSH', 'SSHv2', 'SSL', 'SSLv2', 'SSLv3', 'Socks', 'TCP', 'TCPCL', 'TDS', 'TLSv1', 'UDP', 'VICP', 'VNC', 'WSP', 'X11', 'eDonkey']\n"
     ]
    }
   ],
   "source": [
    "Protocols = sorted(SF_tr['Protocol'].unique())\n",
    "print Protocols"
   ]
  },
  {
   "cell_type": "code",
   "execution_count": 6,
   "metadata": {
    "collapsed": true
   },
   "outputs": [],
   "source": [
    "# more malicious IPs specific to malware have been added to the list provided by the Canadian Institute for Cybersecurity \n",
    "\n",
    "ip_list = [\n",
    "    \"94.250.250.18\",\n",
    "    \"94.102.49.125\",\n",
    "    \"161.202.132.62\",\n",
    "    \"54.167.101.139\",\n",
    "    \"147.32.84.180\",\n",
    "    \"147.32.84.170\",\n",
    "    \"147.32.84.150\",\n",
    "    \"147.32.84.140\",\n",
    "    \"147.32.84.130\",\n",
    "    \"147.32.84.160\",\n",
    "    \"10.0.2.15\",\n",
    "    \"192.168.106.141\",\n",
    "    \"192.168.106.131\",\n",
    "    \"172.16.253.130\",\n",
    "    \"172.16.253.131\",\n",
    "    \"172.16.253.129\",\n",
    "    \"172.16.253.240\",\n",
    "    \"74.78.117.238\",\n",
    "    \"158.65.110.24\",\n",
    "    \"192.168.3.35\",\n",
    "    \"192.168.3.25\",\n",
    "    \"192.168.3.65\",\n",
    "    \"172.29.0.116\",\n",
    "    \"172.29.0.109\",\n",
    "    \"172.16.253.132\",\n",
    "    \"192.168.248.165\",\n",
    "    \"10.37.130.4\",\n",
    "    \"131.202.243.84\", \n",
    "    \"198.164.30.2\", \"192.168.5.122\", \n",
    "    \"192.168.5.122\", \n",
    "    \"192.168.5.122\", \"192.168.5.122\", \"192.168.5.122\", \n",
    "    \"192.168.2.110\", \n",
    "    \"192.168.4.120\", \"192.168.1.103\",\n",
    "    \"192.168.2.113\", \"192.168.4.118\" , \"192.168.2.109\", \"192.168.2.105\", \"192.168.5.122\"]\n",
    "\n",
    "MasterBots = [ (\"192.168.2.112\", \"131.202.243.84\"), (\"192.168.5.122\", \"198.164.30.2\"), (\"192.168.2.110\", \"192.168.5.122\"),( \"192.168.4.118\", \"192.168.5.122\"), (\"192.168.2.113\", \"192.168.5.122\"), (\"192.168.1.103\", \"192.168.5.122\"), (\"192.168.4.120\", \"192.168.5.122\"), (\"192.168.2.112\", \"192.168.2.110\"), (\"192.168.2.112\", \"192.168.4.120\"), (\"192.168.2.112\", \"192.168.1.103\"), (\"192.168.2.112\", \"192.168.2.113\"), (\"192.168.2.112\", \"192.168.4.118\"), (\"192.168.2.112\", \"192.168.2.109\"), (\"192.168.2.112\", \"192.168.2.105\"), (\"192.168.1.105\", \"192.168.5.122\")]\n",
    "\n",
    "ip_list = gl.SArray(ip_list)\n",
    "ip_list = ip_list.unique() \n",
    "ip_list = list(ip_list)\n",
    "\n",
    "def fcheckIP(x):\n",
    "    if (x['Source'] in ip_list) or (x['Destination'] in ip_list):\n",
    "        return 1\n",
    "    else:\n",
    "        if ((x['Source'],x['Destination'])  in MasterBots ) or ((x['Destination'],x['Source'])  in MasterBots ) :\n",
    "            return 1\n",
    "        else:\n",
    "            return 0\n",
    "        \n",
    "\n",
    "SF_tr['isBot'] = SF_tr[['Source','Destination']].apply(lambda x: fcheckIP(x))"
   ]
  },
  {
   "cell_type": "code",
   "execution_count": 7,
   "metadata": {
    "collapsed": false
   },
   "outputs": [
    {
     "name": "stdout",
     "output_type": "stream",
     "text": [
      "3874036\n"
     ]
    }
   ],
   "source": [
    "# Packets labelled as botnet -- % of these packets present\n",
    "botlabels = len(SF_tr[SF_tr['isBot'] == 1])\n",
    "botpercent = ((botlabels * 1.0) / len(SF_tr))* 100\n",
    "print botlabels"
   ]
  },
  {
   "cell_type": "code",
   "execution_count": 8,
   "metadata": {
    "collapsed": false
   },
   "outputs": [
    {
     "name": "stdout",
     "output_type": "stream",
     "text": [
      "41.387% botnet labelled packets present in the training set\n"
     ]
    }
   ],
   "source": [
    "print('{:4.3f}% botnet labelled packets present in the training set'.format(botpercent))"
   ]
  },
  {
   "cell_type": "markdown",
   "metadata": {},
   "source": [
    "## Flows are sorted into bi-directional (for efficient and effective flow differentiation / identification) and given unique Flow IDs:"
   ]
  },
  {
   "cell_type": "code",
   "execution_count": 9,
   "metadata": {
    "collapsed": true
   },
   "outputs": [],
   "source": [
    "def flow_id(x):\n",
    "    # each packet is sorted according to its source and destination IPs\n",
    "    if x['Source'] > x['Destination']:\n",
    "        return( x['Source'] + '-' + x['Destination'] + '-' + str(x['Source Port']) + '-' + str(x['Destination Port'])\n",
    "    + '-' + x['Protocol'] )\n",
    "    else:\n",
    "        return( x['Destination'] + '-' + x['Source'] + '-' + str(x['Destination Port']) + '-' + str(x['Source Port'])\n",
    "               + '-' + x['Protocol'] )\n",
    "    \n",
    "SF_tr['UFid'] = SF_tr.apply(lambda x:flow_id(x))"
   ]
  },
  {
   "cell_type": "code",
   "execution_count": 10,
   "metadata": {
    "collapsed": true
   },
   "outputs": [],
   "source": [
    "# make sure incoming flow & outgoing flow are separately labeled for identifying IOPR -- Incoming-Outgoing Packet Ratio\n",
    "SF_tr['Forward'] = SF_tr.apply( lambda x:1 if x['Source'] > x['Destination'] else 0 )\n",
    "\n",
    "# comparing two different flows based on columns\n",
    "def compareUF(x, y):\n",
    "    if x != y:\n",
    "        return False\n",
    "    return True"
   ]
  },
  {
   "cell_type": "code",
   "execution_count": 11,
   "metadata": {
    "collapsed": true
   },
   "outputs": [],
   "source": [
    "import pickle "
   ]
  },
  {
   "cell_type": "code",
   "execution_count": 12,
   "metadata": {
    "collapsed": false
   },
   "outputs": [
    {
     "name": "stdout",
     "output_type": "stream",
     "text": [
      "Done Sorting\n",
      "Running 0 Done !\n",
      "Running 500000 Done !\n",
      "Running 1000000 Done !\n",
      "Running 1500000 Done !\n",
      "Running 2000000 Done !\n",
      "Running 2500000 Done !\n",
      "Running 3000000 Done !\n",
      "Running 3500000 Done !\n",
      "Running 4000000 Done !\n",
      "Running 4500000 Done !\n",
      "Running 5000000 Done !\n",
      "Running 5500000 Done !\n",
      "Running 6000000 Done !\n",
      "Running 6500000 Done !\n",
      "Running 7000000 Done !\n",
      "Running 7500000 Done !\n",
      "Running 8000000 Done !\n",
      "Running 8500000 Done !\n",
      "Running 9000000 Done !\n",
      "485622\n",
      "402707\n"
     ]
    }
   ],
   "source": [
    "# Code for logic of Bidirectional flow identification\n",
    "FlowNo = 0 # Unique Flow Number for each flow\n",
    "prev = None\n",
    "Flow = []     # Stores all flows in form of list of dictionaries \n",
    "\n",
    "count = 0\n",
    "fc = 0\n",
    "startTime = None   # Start Time of each flow to implement timeout\n",
    "\n",
    "SF_tr = SF_tr.sort(['UFid','Time'])\n",
    "print 'Done Sorting'\n",
    "for x in SF_tr:\n",
    "    if count % 500000 == 0:\n",
    "        print 'Running ' + str(count) + ' Done !'  # keeping track of the dataset parsing\n",
    "    count = count+1\n",
    "    \n",
    "    if prev is None:\n",
    "        if startTime is None:\n",
    "            startTime = x['Time']\n",
    "        Flow.append(FlowNo)  \n",
    "        prev = x['UFid']\n",
    "        \n",
    "    elif compareUF(x['UFid'], prev):\n",
    "        if x['tcp_Flags'] & 1:\n",
    "            Flow.append(FlowNo)\n",
    "            prev = None\n",
    "            startTime = None\n",
    "            FlowNo = FlowNo + 1\n",
    "\n",
    "        elif (x['Time'] - startTime) >= 3600:\n",
    "            FlowNo = FlowNo + 1\n",
    "            Flow.append(FlowNo)\n",
    "            prev = None\n",
    "            startTime = x['Time']\n",
    "            \n",
    "        else:    \n",
    "            Flow.append(FlowNo)\n",
    "            prev = x['UFid']\n",
    "\n",
    "    else:\n",
    "        FlowNo = FlowNo + 1\n",
    "        Flow.append(FlowNo)\n",
    "        prev = x['UFid']\n",
    "        startTime = x['Time']\n",
    "\n",
    "\n",
    "print len(gl.SArray(Flow).unique())\n",
    "\n",
    "\n",
    "SF_tr['Flow'] = gl.SArray(Flow)\n",
    "temp = SF_tr.groupby('Flow',{ 'Count':gl.aggregate.COUNT() })\n",
    "\n",
    "print len(temp[temp['Count'] > 1])"
   ]
  },
  {
   "cell_type": "code",
   "execution_count": 13,
   "metadata": {
    "collapsed": false
   },
   "outputs": [
    {
     "name": "stdout",
     "output_type": "stream",
     "text": [
      "Done Sorting\n",
      "Running 0 Done !\n",
      "Running 500000 Done !\n",
      "Running 1000000 Done !\n",
      "Running 1500000 Done !\n",
      "Running 2000000 Done !\n",
      "Running 2500000 Done !\n",
      "Running 3000000 Done !\n",
      "Running 3500000 Done !\n",
      "Running 4000000 Done !\n",
      "Running 4500000 Done !\n",
      "Running 5000000 Done !\n",
      "Running 5500000 Done !\n",
      "Running 6000000 Done !\n",
      "Running 6500000 Done !\n",
      "Running 7000000 Done !\n",
      "Running 7500000 Done !\n",
      "Running 8000000 Done !\n",
      "Running 8500000 Done !\n",
      "Running 9000000 Done !\n",
      "500983\n",
      "418651\n"
     ]
    }
   ],
   "source": [
    "FlowNo = 0 # Unique Flow Number for each flow\n",
    "prev = None\n",
    "Flow = []     ##Stores all flows in form of list of dictionary \n",
    "\n",
    "count = 0\n",
    "fc = 0\n",
    "startTime = None   ##Start Time of each flow to implement timeout\n",
    "\n",
    "print 'Done Sorting'\n",
    "\n",
    "for x in SF_tr:\n",
    "    if count % 500000 == 0:\n",
    "        print 'Running ' + str(count) + ' Done !'\n",
    "        \n",
    "    count += 1\n",
    "    \n",
    "    if prev is None:\n",
    "        if startTime is None:\n",
    "            startTime = x['Time']\n",
    "        Flow.append(FlowNo)\n",
    "        \n",
    "        prev = x['UFid']\n",
    "        \n",
    "    elif compareUF(x['UFid'],prev):\n",
    "        if x['tcp_Flags'] & 1 or x['tcp_Flags'] & 4:  # difference in implementation\n",
    "            Flow.append(FlowNo)\n",
    "            prev = None\n",
    "            startTime = None\n",
    "            FlowNo = FlowNo + 1\n",
    "\n",
    "        elif x['Time']-startTime>=3600:\n",
    "            FlowNo = FlowNo + 1\n",
    "            Flow.append(FlowNo)\n",
    "            prev = None\n",
    "            startTime = x['Time']\n",
    "            \n",
    "        else:\n",
    "            \n",
    "            Flow.append(FlowNo)\n",
    "            prev = x['UFid']\n",
    "\n",
    "    else:\n",
    "        FlowNo = FlowNo + 1\n",
    "        Flow.append(FlowNo)\n",
    "        prev = x['UFid']\n",
    "        startTime = x['Time']\n",
    "\n",
    "\n",
    "print len(gl.SArray(Flow).unique())\n",
    "\n",
    "\n",
    "SF_tr['Flow'] = gl.SArray(Flow)\n",
    "\n",
    "temp = SF_tr.groupby('Flow',{ 'Count':gl.aggregate.COUNT() })\n",
    "\n",
    "print len(temp[temp['Count'] > 1])"
   ]
  },
  {
   "cell_type": "code",
   "execution_count": 14,
   "metadata": {
    "collapsed": false
   },
   "outputs": [
    {
     "name": "stdout",
     "output_type": "stream",
     "text": [
      "Done Sorting\n",
      "Running 0 Done !\n",
      "Running 500000 Done !\n",
      "Running 1000000 Done !\n",
      "Running 1500000 Done !\n",
      "Running 2000000 Done !\n",
      "Running 2500000 Done !\n",
      "Running 3000000 Done !\n",
      "Running 3500000 Done !\n",
      "Running 4000000 Done !\n",
      "Running 4500000 Done !\n",
      "Running 5000000 Done !\n",
      "Running 5500000 Done !\n",
      "Running 6000000 Done !\n",
      "Running 6500000 Done !\n",
      "Running 7000000 Done !\n",
      "Running 7500000 Done !\n",
      "Running 8000000 Done !\n",
      "Running 8500000 Done !\n",
      "Running 9000000 Done !\n",
      "485622\n"
     ]
    }
   ],
   "source": [
    "# sorting the flows yet again to ensure proper bi-directional flow sorting \n",
    "\n",
    "FlowNo = 0 # unique Flow Number for each flow\n",
    "prev = None\n",
    "Flow = []     # stores all flows in the form of a list of dictionaries\n",
    "\n",
    "count = 0\n",
    "fc = 0\n",
    "startTime = None   # Start-Time of each flow recorded to implement timeout\n",
    "\n",
    "SF_tr = SF_tr.sort(['UFid','Time'])\n",
    "print 'Done Sorting'\n",
    "\n",
    "for x in SF_tr:\n",
    "    if count % 500000 == 0:\n",
    "        print 'Running ' + str(count) + ' Done !'\n",
    "        \n",
    "    count += 1\n",
    "    \n",
    "    if prev is None:\n",
    "        if startTime is None:\n",
    "            startTime = x['Time']\n",
    "        Flow.append(FlowNo)\n",
    "        \n",
    "        prev = x['UFid']\n",
    "    elif compareUF(x['UFid'],prev):\n",
    "        if x['tcp_Flags'] & 1: # previous round of sorting did not involve sorting again by unique flow-ids or comparing 'tcp_flags' with 4\n",
    "            Flow.append(FlowNo)\n",
    "            prev = None\n",
    "            startTime = None\n",
    "            FlowNo = FlowNo + 1\n",
    "\n",
    "        elif (x['Time'] - startTime) >=3600:\n",
    "            FlowNo = FlowNo + 1\n",
    "            Flow.append(FlowNo)\n",
    "            prev = None\n",
    "            startTime = x['Time']\n",
    "            \n",
    "        else:\n",
    "            \n",
    "            Flow.append(FlowNo)\n",
    "            prev = x['UFid']\n",
    "\n",
    "    else:\n",
    "        FlowNo = FlowNo + 1\n",
    "        Flow.append(FlowNo)\n",
    "        prev = x['UFid']\n",
    "        startTime = x['Time']\n",
    "\n",
    "\n",
    "print len(gl.SArray(Flow).unique())"
   ]
  },
  {
   "cell_type": "code",
   "execution_count": 15,
   "metadata": {
    "collapsed": false
   },
   "outputs": [
    {
     "name": "stdout",
     "output_type": "stream",
     "text": [
      "402707\n"
     ]
    }
   ],
   "source": [
    "SF_tr['Flow'] = gl.SArray(Flow)\n",
    "\n",
    "temp = SF_tr.groupby('Flow',{ 'Count':gl.aggregate.COUNT() }) # to determine how many flows are present in the data / traffic\n",
    "\n",
    "print len(temp[temp['Count'] > 1])"
   ]
  },
  {
   "cell_type": "code",
   "execution_count": 16,
   "metadata": {
    "collapsed": false
   },
   "outputs": [
    {
     "name": "stdout",
     "output_type": "stream",
     "text": [
      "Number of bot-flows: 235640\n",
      "48.5233% of bot-flows are seen among all sorted flows\n"
     ]
    }
   ],
   "source": [
    "temp = SF_tr.groupby('Flow',{   'NumBots' : gl.aggregate.SUM('isBot')    }) # categorizing based on the isBot criterion\n",
    "\n",
    "NumBotFlows = len(temp[temp['NumBots'] > 1])\n",
    "print('Number of bot-flows: {}'.format(NumBotFlows))\n",
    "\n",
    "botflowspercent = (NumBotFlows *1.0) / len(SF_tr['Flow'].unique())\n",
    "print('{:2.4f}% of bot-flows are seen among all sorted flows'.format(botflowspercent * 100))"
   ]
  },
  {
   "cell_type": "code",
   "execution_count": 17,
   "metadata": {
    "collapsed": false
   },
   "outputs": [
    {
     "data": {
      "text/plain": [
       "9360525"
      ]
     },
     "execution_count": 17,
     "metadata": {},
     "output_type": "execute_result"
    }
   ],
   "source": [
    "len(Flow) # out of the total 9388270 total packets"
   ]
  },
  {
   "cell_type": "code",
   "execution_count": 18,
   "metadata": {
    "collapsed": false
   },
   "outputs": [
    {
     "data": {
      "text/plain": [
       "9360525"
      ]
     },
     "execution_count": 18,
     "metadata": {},
     "output_type": "execute_result"
    }
   ],
   "source": [
    "len(SF_tr)"
   ]
  },
  {
   "cell_type": "code",
   "execution_count": 19,
   "metadata": {
    "collapsed": false
   },
   "outputs": [],
   "source": [
    "SF_tr['FlowNo.'] = gl.SArray(Flow)"
   ]
  },
  {
   "cell_type": "code",
   "execution_count": 20,
   "metadata": {
    "collapsed": false
   },
   "outputs": [
    {
     "data": {
      "text/plain": [
       "[0,\n",
       " 1,\n",
       " 1,\n",
       " 1,\n",
       " 1,\n",
       " 1,\n",
       " 1,\n",
       " 1,\n",
       " 1,\n",
       " 1,\n",
       " 2,\n",
       " 3,\n",
       " 4,\n",
       " 4,\n",
       " 4,\n",
       " 4,\n",
       " 4,\n",
       " 4,\n",
       " 5,\n",
       " 5,\n",
       " 5,\n",
       " 5,\n",
       " 5,\n",
       " 5,\n",
       " 6,\n",
       " 6,\n",
       " 6,\n",
       " 6,\n",
       " 6,\n",
       " 6,\n",
       " 6,\n",
       " 6,\n",
       " 6,\n",
       " 7,\n",
       " 7,\n",
       " 7,\n",
       " 7,\n",
       " 8,\n",
       " 9,\n",
       " 9,\n",
       " 10,\n",
       " 10,\n",
       " 10,\n",
       " 10,\n",
       " 11]"
      ]
     },
     "execution_count": 20,
     "metadata": {},
     "output_type": "execute_result"
    }
   ],
   "source": [
    "# checking to see if there are any discrepancies in the data --\n",
    "# i.e., if flows are in decreasing order, contrary to the conditions applied for sorting flows\n",
    "\n",
    "Flow[:45]"
   ]
  },
  {
   "cell_type": "code",
   "execution_count": 21,
   "metadata": {
    "collapsed": true
   },
   "outputs": [],
   "source": [
    "pickle.dump(Flow,open('Flow.pkl','w'))"
   ]
  },
  {
   "cell_type": "code",
   "execution_count": 22,
   "metadata": {
    "collapsed": false
   },
   "outputs": [
    {
     "data": {
      "text/html": [
       "<div style=\"max-height:1000px;max-width:1500px;overflow:auto;\"><table frame=\"box\" rules=\"cols\">\n",
       "    <tr>\n",
       "        <th style=\"padding-left: 1em; padding-right: 1em; text-align: center\">No.</th>\n",
       "        <th style=\"padding-left: 1em; padding-right: 1em; text-align: center\">Time</th>\n",
       "        <th style=\"padding-left: 1em; padding-right: 1em; text-align: center\">Source</th>\n",
       "        <th style=\"padding-left: 1em; padding-right: 1em; text-align: center\">Protocol</th>\n",
       "        <th style=\"padding-left: 1em; padding-right: 1em; text-align: center\">Length</th>\n",
       "        <th style=\"padding-left: 1em; padding-right: 1em; text-align: center\">Source Port</th>\n",
       "        <th style=\"padding-left: 1em; padding-right: 1em; text-align: center\">Destination</th>\n",
       "        <th style=\"padding-left: 1em; padding-right: 1em; text-align: center\">Destination Port</th>\n",
       "        <th style=\"padding-left: 1em; padding-right: 1em; text-align: center\">udp_Length</th>\n",
       "    </tr>\n",
       "    <tr>\n",
       "        <td style=\"padding-left: 1em; padding-right: 1em; text-align: center; vertical-align: top\">2255379</td>\n",
       "        <td style=\"padding-left: 1em; padding-right: 1em; text-align: center; vertical-align: top\">-121112382.05</td>\n",
       "        <td style=\"padding-left: 1em; padding-right: 1em; text-align: center; vertical-align: top\"></td>\n",
       "        <td style=\"padding-left: 1em; padding-right: 1em; text-align: center; vertical-align: top\">IEEE 802.15.4</td>\n",
       "        <td style=\"padding-left: 1em; padding-right: 1em; text-align: center; vertical-align: top\">70</td>\n",
       "        <td style=\"padding-left: 1em; padding-right: 1em; text-align: center; vertical-align: top\">49999</td>\n",
       "        <td style=\"padding-left: 1em; padding-right: 1em; text-align: center; vertical-align: top\"></td>\n",
       "        <td style=\"padding-left: 1em; padding-right: 1em; text-align: center; vertical-align: top\">30319</td>\n",
       "        <td style=\"padding-left: 1em; padding-right: 1em; text-align: center; vertical-align: top\">36</td>\n",
       "    </tr>\n",
       "    <tr>\n",
       "        <td style=\"padding-left: 1em; padding-right: 1em; text-align: center; vertical-align: top\">2145566</td>\n",
       "        <td style=\"padding-left: 1em; padding-right: 1em; text-align: center; vertical-align: top\">-121113062.71</td>\n",
       "        <td style=\"padding-left: 1em; padding-right: 1em; text-align: center; vertical-align: top\"></td>\n",
       "        <td style=\"padding-left: 1em; padding-right: 1em; text-align: center; vertical-align: top\">IEEE 802.15.4</td>\n",
       "        <td style=\"padding-left: 1em; padding-right: 1em; text-align: center; vertical-align: top\">88</td>\n",
       "        <td style=\"padding-left: 1em; padding-right: 1em; text-align: center; vertical-align: top\">30319</td>\n",
       "        <td style=\"padding-left: 1em; padding-right: 1em; text-align: center; vertical-align: top\"></td>\n",
       "        <td style=\"padding-left: 1em; padding-right: 1em; text-align: center; vertical-align: top\">49999</td>\n",
       "        <td style=\"padding-left: 1em; padding-right: 1em; text-align: center; vertical-align: top\">50</td>\n",
       "    </tr>\n",
       "    <tr>\n",
       "        <td style=\"padding-left: 1em; padding-right: 1em; text-align: center; vertical-align: top\">2145702</td>\n",
       "        <td style=\"padding-left: 1em; padding-right: 1em; text-align: center; vertical-align: top\">-121113061.371</td>\n",
       "        <td style=\"padding-left: 1em; padding-right: 1em; text-align: center; vertical-align: top\"></td>\n",
       "        <td style=\"padding-left: 1em; padding-right: 1em; text-align: center; vertical-align: top\">IEEE 802.15.4</td>\n",
       "        <td style=\"padding-left: 1em; padding-right: 1em; text-align: center; vertical-align: top\">84</td>\n",
       "        <td style=\"padding-left: 1em; padding-right: 1em; text-align: center; vertical-align: top\">30319</td>\n",
       "        <td style=\"padding-left: 1em; padding-right: 1em; text-align: center; vertical-align: top\"></td>\n",
       "        <td style=\"padding-left: 1em; padding-right: 1em; text-align: center; vertical-align: top\">49999</td>\n",
       "        <td style=\"padding-left: 1em; padding-right: 1em; text-align: center; vertical-align: top\">50</td>\n",
       "    </tr>\n",
       "    <tr>\n",
       "        <td style=\"padding-left: 1em; padding-right: 1em; text-align: center; vertical-align: top\">2152740</td>\n",
       "        <td style=\"padding-left: 1em; padding-right: 1em; text-align: center; vertical-align: top\">-121113006.007</td>\n",
       "        <td style=\"padding-left: 1em; padding-right: 1em; text-align: center; vertical-align: top\"></td>\n",
       "        <td style=\"padding-left: 1em; padding-right: 1em; text-align: center; vertical-align: top\">IEEE 802.15.4</td>\n",
       "        <td style=\"padding-left: 1em; padding-right: 1em; text-align: center; vertical-align: top\">96</td>\n",
       "        <td style=\"padding-left: 1em; padding-right: 1em; text-align: center; vertical-align: top\">30319</td>\n",
       "        <td style=\"padding-left: 1em; padding-right: 1em; text-align: center; vertical-align: top\"></td>\n",
       "        <td style=\"padding-left: 1em; padding-right: 1em; text-align: center; vertical-align: top\">49999</td>\n",
       "        <td style=\"padding-left: 1em; padding-right: 1em; text-align: center; vertical-align: top\">73</td>\n",
       "    </tr>\n",
       "    <tr>\n",
       "        <td style=\"padding-left: 1em; padding-right: 1em; text-align: center; vertical-align: top\">2153680</td>\n",
       "        <td style=\"padding-left: 1em; padding-right: 1em; text-align: center; vertical-align: top\">-121113001.2</td>\n",
       "        <td style=\"padding-left: 1em; padding-right: 1em; text-align: center; vertical-align: top\"></td>\n",
       "        <td style=\"padding-left: 1em; padding-right: 1em; text-align: center; vertical-align: top\">IEEE 802.15.4</td>\n",
       "        <td style=\"padding-left: 1em; padding-right: 1em; text-align: center; vertical-align: top\">96</td>\n",
       "        <td style=\"padding-left: 1em; padding-right: 1em; text-align: center; vertical-align: top\">30319</td>\n",
       "        <td style=\"padding-left: 1em; padding-right: 1em; text-align: center; vertical-align: top\"></td>\n",
       "        <td style=\"padding-left: 1em; padding-right: 1em; text-align: center; vertical-align: top\">49999</td>\n",
       "        <td style=\"padding-left: 1em; padding-right: 1em; text-align: center; vertical-align: top\">71</td>\n",
       "    </tr>\n",
       "    <tr>\n",
       "        <td style=\"padding-left: 1em; padding-right: 1em; text-align: center; vertical-align: top\">2170704</td>\n",
       "        <td style=\"padding-left: 1em; padding-right: 1em; text-align: center; vertical-align: top\">-121112850.576</td>\n",
       "        <td style=\"padding-left: 1em; padding-right: 1em; text-align: center; vertical-align: top\"></td>\n",
       "        <td style=\"padding-left: 1em; padding-right: 1em; text-align: center; vertical-align: top\">IEEE 802.15.4</td>\n",
       "        <td style=\"padding-left: 1em; padding-right: 1em; text-align: center; vertical-align: top\">96</td>\n",
       "        <td style=\"padding-left: 1em; padding-right: 1em; text-align: center; vertical-align: top\">30319</td>\n",
       "        <td style=\"padding-left: 1em; padding-right: 1em; text-align: center; vertical-align: top\"></td>\n",
       "        <td style=\"padding-left: 1em; padding-right: 1em; text-align: center; vertical-align: top\">49999</td>\n",
       "        <td style=\"padding-left: 1em; padding-right: 1em; text-align: center; vertical-align: top\">71</td>\n",
       "    </tr>\n",
       "    <tr>\n",
       "        <td style=\"padding-left: 1em; padding-right: 1em; text-align: center; vertical-align: top\">2180568</td>\n",
       "        <td style=\"padding-left: 1em; padding-right: 1em; text-align: center; vertical-align: top\">-121112781.031</td>\n",
       "        <td style=\"padding-left: 1em; padding-right: 1em; text-align: center; vertical-align: top\"></td>\n",
       "        <td style=\"padding-left: 1em; padding-right: 1em; text-align: center; vertical-align: top\">IEEE 802.15.4</td>\n",
       "        <td style=\"padding-left: 1em; padding-right: 1em; text-align: center; vertical-align: top\">96</td>\n",
       "        <td style=\"padding-left: 1em; padding-right: 1em; text-align: center; vertical-align: top\">30319</td>\n",
       "        <td style=\"padding-left: 1em; padding-right: 1em; text-align: center; vertical-align: top\"></td>\n",
       "        <td style=\"padding-left: 1em; padding-right: 1em; text-align: center; vertical-align: top\">49999</td>\n",
       "        <td style=\"padding-left: 1em; padding-right: 1em; text-align: center; vertical-align: top\">71</td>\n",
       "    </tr>\n",
       "    <tr>\n",
       "        <td style=\"padding-left: 1em; padding-right: 1em; text-align: center; vertical-align: top\">2196536</td>\n",
       "        <td style=\"padding-left: 1em; padding-right: 1em; text-align: center; vertical-align: top\">-121112679.898</td>\n",
       "        <td style=\"padding-left: 1em; padding-right: 1em; text-align: center; vertical-align: top\"></td>\n",
       "        <td style=\"padding-left: 1em; padding-right: 1em; text-align: center; vertical-align: top\">IEEE 802.15.4</td>\n",
       "        <td style=\"padding-left: 1em; padding-right: 1em; text-align: center; vertical-align: top\">96</td>\n",
       "        <td style=\"padding-left: 1em; padding-right: 1em; text-align: center; vertical-align: top\">30319</td>\n",
       "        <td style=\"padding-left: 1em; padding-right: 1em; text-align: center; vertical-align: top\"></td>\n",
       "        <td style=\"padding-left: 1em; padding-right: 1em; text-align: center; vertical-align: top\">49999</td>\n",
       "        <td style=\"padding-left: 1em; padding-right: 1em; text-align: center; vertical-align: top\">71</td>\n",
       "    </tr>\n",
       "    <tr>\n",
       "        <td style=\"padding-left: 1em; padding-right: 1em; text-align: center; vertical-align: top\">2212282</td>\n",
       "        <td style=\"padding-left: 1em; padding-right: 1em; text-align: center; vertical-align: top\">-121112603.31</td>\n",
       "        <td style=\"padding-left: 1em; padding-right: 1em; text-align: center; vertical-align: top\"></td>\n",
       "        <td style=\"padding-left: 1em; padding-right: 1em; text-align: center; vertical-align: top\">IEEE 802.15.4</td>\n",
       "        <td style=\"padding-left: 1em; padding-right: 1em; text-align: center; vertical-align: top\">96</td>\n",
       "        <td style=\"padding-left: 1em; padding-right: 1em; text-align: center; vertical-align: top\">30319</td>\n",
       "        <td style=\"padding-left: 1em; padding-right: 1em; text-align: center; vertical-align: top\"></td>\n",
       "        <td style=\"padding-left: 1em; padding-right: 1em; text-align: center; vertical-align: top\">49999</td>\n",
       "        <td style=\"padding-left: 1em; padding-right: 1em; text-align: center; vertical-align: top\">71</td>\n",
       "    </tr>\n",
       "    <tr>\n",
       "        <td style=\"padding-left: 1em; padding-right: 1em; text-align: center; vertical-align: top\">2255350</td>\n",
       "        <td style=\"padding-left: 1em; padding-right: 1em; text-align: center; vertical-align: top\">-121112382.224</td>\n",
       "        <td style=\"padding-left: 1em; padding-right: 1em; text-align: center; vertical-align: top\"></td>\n",
       "        <td style=\"padding-left: 1em; padding-right: 1em; text-align: center; vertical-align: top\">IEEE 802.15.4</td>\n",
       "        <td style=\"padding-left: 1em; padding-right: 1em; text-align: center; vertical-align: top\">96</td>\n",
       "        <td style=\"padding-left: 1em; padding-right: 1em; text-align: center; vertical-align: top\">30319</td>\n",
       "        <td style=\"padding-left: 1em; padding-right: 1em; text-align: center; vertical-align: top\"></td>\n",
       "        <td style=\"padding-left: 1em; padding-right: 1em; text-align: center; vertical-align: top\">49999</td>\n",
       "        <td style=\"padding-left: 1em; padding-right: 1em; text-align: center; vertical-align: top\">108</td>\n",
       "    </tr>\n",
       "</table>\n",
       "<table frame=\"box\" rules=\"cols\">\n",
       "    <tr>\n",
       "        <th style=\"padding-left: 1em; padding-right: 1em; text-align: center\">Protocols in frame</th>\n",
       "        <th style=\"padding-left: 1em; padding-right: 1em; text-align: center\">Info</th>\n",
       "        <th style=\"padding-left: 1em; padding-right: 1em; text-align: center\">Differentiated Services<br>Field ...</th>\n",
       "        <th style=\"padding-left: 1em; padding-right: 1em; text-align: center\">Sequence number</th>\n",
       "        <th style=\"padding-left: 1em; padding-right: 1em; text-align: center\">Next sequence number</th>\n",
       "    </tr>\n",
       "    <tr>\n",
       "        <td style=\"padding-left: 1em; padding-right: 1em; text-align: center; vertical-align: top\">eth:ethertype:ip:udp:nxp_<br>802154_sniffer:wpan ...</td>\n",
       "        <td style=\"padding-left: 1em; padding-right: 1em; text-align: center; vertical-align: top\">Beacon[Malformed Packet]</td>\n",
       "        <td style=\"padding-left: 1em; padding-right: 1em; text-align: center; vertical-align: top\">0x00</td>\n",
       "        <td style=\"padding-left: 1em; padding-right: 1em; text-align: center; vertical-align: top\"></td>\n",
       "        <td style=\"padding-left: 1em; padding-right: 1em; text-align: center; vertical-align: top\"></td>\n",
       "    </tr>\n",
       "    <tr>\n",
       "        <td style=\"padding-left: 1em; padding-right: 1em; text-align: center; vertical-align: top\">eth:ethertype:ip:udp:nxp_<br>802154_sniffer:wpan ...</td>\n",
       "        <td style=\"padding-left: 1em; padding-right: 1em; text-align: center; vertical-align: top\">Multipurpose</td>\n",
       "        <td style=\"padding-left: 1em; padding-right: 1em; text-align: center; vertical-align: top\">0x00</td>\n",
       "        <td style=\"padding-left: 1em; padding-right: 1em; text-align: center; vertical-align: top\"></td>\n",
       "        <td style=\"padding-left: 1em; padding-right: 1em; text-align: center; vertical-align: top\"></td>\n",
       "    </tr>\n",
       "    <tr>\n",
       "        <td style=\"padding-left: 1em; padding-right: 1em; text-align: center; vertical-align: top\">eth:ethertype:ip:udp:nxp_<br>802154_sniffer:wpan ...</td>\n",
       "        <td style=\"padding-left: 1em; padding-right: 1em; text-align: center; vertical-align: top\">Multipurpose</td>\n",
       "        <td style=\"padding-left: 1em; padding-right: 1em; text-align: center; vertical-align: top\">0x00</td>\n",
       "        <td style=\"padding-left: 1em; padding-right: 1em; text-align: center; vertical-align: top\"></td>\n",
       "        <td style=\"padding-left: 1em; padding-right: 1em; text-align: center; vertical-align: top\"></td>\n",
       "    </tr>\n",
       "    <tr>\n",
       "        <td style=\"padding-left: 1em; padding-right: 1em; text-align: center; vertical-align: top\">eth:ethertype:ip:udp:nxp_<br>802154_sniffer:wpan ...</td>\n",
       "        <td style=\"padding-left: 1em; padding-right: 1em; text-align: center; vertical-align: top\">Multipurpose</td>\n",
       "        <td style=\"padding-left: 1em; padding-right: 1em; text-align: center; vertical-align: top\">0x00</td>\n",
       "        <td style=\"padding-left: 1em; padding-right: 1em; text-align: center; vertical-align: top\"></td>\n",
       "        <td style=\"padding-left: 1em; padding-right: 1em; text-align: center; vertical-align: top\"></td>\n",
       "    </tr>\n",
       "    <tr>\n",
       "        <td style=\"padding-left: 1em; padding-right: 1em; text-align: center; vertical-align: top\">eth:ethertype:ip:udp:nxp_<br>802154_sniffer:wpan ...</td>\n",
       "        <td style=\"padding-left: 1em; padding-right: 1em; text-align: center; vertical-align: top\">Multipurpose</td>\n",
       "        <td style=\"padding-left: 1em; padding-right: 1em; text-align: center; vertical-align: top\">0x00</td>\n",
       "        <td style=\"padding-left: 1em; padding-right: 1em; text-align: center; vertical-align: top\"></td>\n",
       "        <td style=\"padding-left: 1em; padding-right: 1em; text-align: center; vertical-align: top\"></td>\n",
       "    </tr>\n",
       "    <tr>\n",
       "        <td style=\"padding-left: 1em; padding-right: 1em; text-align: center; vertical-align: top\">eth:ethertype:ip:udp:nxp_<br>802154_sniffer:wpan ...</td>\n",
       "        <td style=\"padding-left: 1em; padding-right: 1em; text-align: center; vertical-align: top\">Multipurpose</td>\n",
       "        <td style=\"padding-left: 1em; padding-right: 1em; text-align: center; vertical-align: top\">0x00</td>\n",
       "        <td style=\"padding-left: 1em; padding-right: 1em; text-align: center; vertical-align: top\"></td>\n",
       "        <td style=\"padding-left: 1em; padding-right: 1em; text-align: center; vertical-align: top\"></td>\n",
       "    </tr>\n",
       "    <tr>\n",
       "        <td style=\"padding-left: 1em; padding-right: 1em; text-align: center; vertical-align: top\">eth:ethertype:ip:udp:nxp_<br>802154_sniffer:wpan ...</td>\n",
       "        <td style=\"padding-left: 1em; padding-right: 1em; text-align: center; vertical-align: top\">Multipurpose</td>\n",
       "        <td style=\"padding-left: 1em; padding-right: 1em; text-align: center; vertical-align: top\">0x00</td>\n",
       "        <td style=\"padding-left: 1em; padding-right: 1em; text-align: center; vertical-align: top\"></td>\n",
       "        <td style=\"padding-left: 1em; padding-right: 1em; text-align: center; vertical-align: top\"></td>\n",
       "    </tr>\n",
       "    <tr>\n",
       "        <td style=\"padding-left: 1em; padding-right: 1em; text-align: center; vertical-align: top\">eth:ethertype:ip:udp:nxp_<br>802154_sniffer:wpan ...</td>\n",
       "        <td style=\"padding-left: 1em; padding-right: 1em; text-align: center; vertical-align: top\">Multipurpose</td>\n",
       "        <td style=\"padding-left: 1em; padding-right: 1em; text-align: center; vertical-align: top\">0x00</td>\n",
       "        <td style=\"padding-left: 1em; padding-right: 1em; text-align: center; vertical-align: top\"></td>\n",
       "        <td style=\"padding-left: 1em; padding-right: 1em; text-align: center; vertical-align: top\"></td>\n",
       "    </tr>\n",
       "    <tr>\n",
       "        <td style=\"padding-left: 1em; padding-right: 1em; text-align: center; vertical-align: top\">eth:ethertype:ip:udp:nxp_<br>802154_sniffer:wpan ...</td>\n",
       "        <td style=\"padding-left: 1em; padding-right: 1em; text-align: center; vertical-align: top\">Multipurpose</td>\n",
       "        <td style=\"padding-left: 1em; padding-right: 1em; text-align: center; vertical-align: top\">0x00</td>\n",
       "        <td style=\"padding-left: 1em; padding-right: 1em; text-align: center; vertical-align: top\"></td>\n",
       "        <td style=\"padding-left: 1em; padding-right: 1em; text-align: center; vertical-align: top\"></td>\n",
       "    </tr>\n",
       "    <tr>\n",
       "        <td style=\"padding-left: 1em; padding-right: 1em; text-align: center; vertical-align: top\">eth:ethertype:ip:udp:nxp_<br>802154_sniffer:wpan ...</td>\n",
       "        <td style=\"padding-left: 1em; padding-right: 1em; text-align: center; vertical-align: top\">Multipurpose</td>\n",
       "        <td style=\"padding-left: 1em; padding-right: 1em; text-align: center; vertical-align: top\">0x00</td>\n",
       "        <td style=\"padding-left: 1em; padding-right: 1em; text-align: center; vertical-align: top\"></td>\n",
       "        <td style=\"padding-left: 1em; padding-right: 1em; text-align: center; vertical-align: top\"></td>\n",
       "    </tr>\n",
       "</table>\n",
       "<table frame=\"box\" rules=\"cols\">\n",
       "    <tr>\n",
       "        <th style=\"padding-left: 1em; padding-right: 1em; text-align: center\">IP_Flags</th>\n",
       "        <th style=\"padding-left: 1em; padding-right: 1em; text-align: center\">tcp_Flags</th>\n",
       "        <th style=\"padding-left: 1em; padding-right: 1em; text-align: center\">Answer RRs</th>\n",
       "        <th style=\"padding-left: 1em; padding-right: 1em; text-align: center\">Source GeoIP Country</th>\n",
       "        <th style=\"padding-left: 1em; padding-right: 1em; text-align: center\">Source GeoIP Latitude</th>\n",
       "        <th style=\"padding-left: 1em; padding-right: 1em; text-align: center\">Source GeoIP Longitude</th>\n",
       "        <th style=\"padding-left: 1em; padding-right: 1em; text-align: center\">Destination GeoIP Country</th>\n",
       "    </tr>\n",
       "    <tr>\n",
       "        <td style=\"padding-left: 1em; padding-right: 1em; text-align: center; vertical-align: top\">0x0000</td>\n",
       "        <td style=\"padding-left: 1em; padding-right: 1em; text-align: center; vertical-align: top\">0</td>\n",
       "        <td style=\"padding-left: 1em; padding-right: 1em; text-align: center; vertical-align: top\"></td>\n",
       "        <td style=\"padding-left: 1em; padding-right: 1em; text-align: center; vertical-align: top\"></td>\n",
       "        <td style=\"padding-left: 1em; padding-right: 1em; text-align: center; vertical-align: top\"></td>\n",
       "        <td style=\"padding-left: 1em; padding-right: 1em; text-align: center; vertical-align: top\"></td>\n",
       "        <td style=\"padding-left: 1em; padding-right: 1em; text-align: center; vertical-align: top\"></td>\n",
       "    </tr>\n",
       "    <tr>\n",
       "        <td style=\"padding-left: 1em; padding-right: 1em; text-align: center; vertical-align: top\">0x0000</td>\n",
       "        <td style=\"padding-left: 1em; padding-right: 1em; text-align: center; vertical-align: top\">0</td>\n",
       "        <td style=\"padding-left: 1em; padding-right: 1em; text-align: center; vertical-align: top\"></td>\n",
       "        <td style=\"padding-left: 1em; padding-right: 1em; text-align: center; vertical-align: top\"></td>\n",
       "        <td style=\"padding-left: 1em; padding-right: 1em; text-align: center; vertical-align: top\"></td>\n",
       "        <td style=\"padding-left: 1em; padding-right: 1em; text-align: center; vertical-align: top\"></td>\n",
       "        <td style=\"padding-left: 1em; padding-right: 1em; text-align: center; vertical-align: top\"></td>\n",
       "    </tr>\n",
       "    <tr>\n",
       "        <td style=\"padding-left: 1em; padding-right: 1em; text-align: center; vertical-align: top\">0x0000</td>\n",
       "        <td style=\"padding-left: 1em; padding-right: 1em; text-align: center; vertical-align: top\">0</td>\n",
       "        <td style=\"padding-left: 1em; padding-right: 1em; text-align: center; vertical-align: top\"></td>\n",
       "        <td style=\"padding-left: 1em; padding-right: 1em; text-align: center; vertical-align: top\"></td>\n",
       "        <td style=\"padding-left: 1em; padding-right: 1em; text-align: center; vertical-align: top\"></td>\n",
       "        <td style=\"padding-left: 1em; padding-right: 1em; text-align: center; vertical-align: top\"></td>\n",
       "        <td style=\"padding-left: 1em; padding-right: 1em; text-align: center; vertical-align: top\"></td>\n",
       "    </tr>\n",
       "    <tr>\n",
       "        <td style=\"padding-left: 1em; padding-right: 1em; text-align: center; vertical-align: top\">0x0000</td>\n",
       "        <td style=\"padding-left: 1em; padding-right: 1em; text-align: center; vertical-align: top\">0</td>\n",
       "        <td style=\"padding-left: 1em; padding-right: 1em; text-align: center; vertical-align: top\"></td>\n",
       "        <td style=\"padding-left: 1em; padding-right: 1em; text-align: center; vertical-align: top\"></td>\n",
       "        <td style=\"padding-left: 1em; padding-right: 1em; text-align: center; vertical-align: top\"></td>\n",
       "        <td style=\"padding-left: 1em; padding-right: 1em; text-align: center; vertical-align: top\"></td>\n",
       "        <td style=\"padding-left: 1em; padding-right: 1em; text-align: center; vertical-align: top\"></td>\n",
       "    </tr>\n",
       "    <tr>\n",
       "        <td style=\"padding-left: 1em; padding-right: 1em; text-align: center; vertical-align: top\">0x0000</td>\n",
       "        <td style=\"padding-left: 1em; padding-right: 1em; text-align: center; vertical-align: top\">0</td>\n",
       "        <td style=\"padding-left: 1em; padding-right: 1em; text-align: center; vertical-align: top\"></td>\n",
       "        <td style=\"padding-left: 1em; padding-right: 1em; text-align: center; vertical-align: top\"></td>\n",
       "        <td style=\"padding-left: 1em; padding-right: 1em; text-align: center; vertical-align: top\"></td>\n",
       "        <td style=\"padding-left: 1em; padding-right: 1em; text-align: center; vertical-align: top\"></td>\n",
       "        <td style=\"padding-left: 1em; padding-right: 1em; text-align: center; vertical-align: top\"></td>\n",
       "    </tr>\n",
       "    <tr>\n",
       "        <td style=\"padding-left: 1em; padding-right: 1em; text-align: center; vertical-align: top\">0x0000</td>\n",
       "        <td style=\"padding-left: 1em; padding-right: 1em; text-align: center; vertical-align: top\">0</td>\n",
       "        <td style=\"padding-left: 1em; padding-right: 1em; text-align: center; vertical-align: top\"></td>\n",
       "        <td style=\"padding-left: 1em; padding-right: 1em; text-align: center; vertical-align: top\"></td>\n",
       "        <td style=\"padding-left: 1em; padding-right: 1em; text-align: center; vertical-align: top\"></td>\n",
       "        <td style=\"padding-left: 1em; padding-right: 1em; text-align: center; vertical-align: top\"></td>\n",
       "        <td style=\"padding-left: 1em; padding-right: 1em; text-align: center; vertical-align: top\"></td>\n",
       "    </tr>\n",
       "    <tr>\n",
       "        <td style=\"padding-left: 1em; padding-right: 1em; text-align: center; vertical-align: top\">0x0000</td>\n",
       "        <td style=\"padding-left: 1em; padding-right: 1em; text-align: center; vertical-align: top\">0</td>\n",
       "        <td style=\"padding-left: 1em; padding-right: 1em; text-align: center; vertical-align: top\"></td>\n",
       "        <td style=\"padding-left: 1em; padding-right: 1em; text-align: center; vertical-align: top\"></td>\n",
       "        <td style=\"padding-left: 1em; padding-right: 1em; text-align: center; vertical-align: top\"></td>\n",
       "        <td style=\"padding-left: 1em; padding-right: 1em; text-align: center; vertical-align: top\"></td>\n",
       "        <td style=\"padding-left: 1em; padding-right: 1em; text-align: center; vertical-align: top\"></td>\n",
       "    </tr>\n",
       "    <tr>\n",
       "        <td style=\"padding-left: 1em; padding-right: 1em; text-align: center; vertical-align: top\">0x0000</td>\n",
       "        <td style=\"padding-left: 1em; padding-right: 1em; text-align: center; vertical-align: top\">0</td>\n",
       "        <td style=\"padding-left: 1em; padding-right: 1em; text-align: center; vertical-align: top\"></td>\n",
       "        <td style=\"padding-left: 1em; padding-right: 1em; text-align: center; vertical-align: top\"></td>\n",
       "        <td style=\"padding-left: 1em; padding-right: 1em; text-align: center; vertical-align: top\"></td>\n",
       "        <td style=\"padding-left: 1em; padding-right: 1em; text-align: center; vertical-align: top\"></td>\n",
       "        <td style=\"padding-left: 1em; padding-right: 1em; text-align: center; vertical-align: top\"></td>\n",
       "    </tr>\n",
       "    <tr>\n",
       "        <td style=\"padding-left: 1em; padding-right: 1em; text-align: center; vertical-align: top\">0x0000</td>\n",
       "        <td style=\"padding-left: 1em; padding-right: 1em; text-align: center; vertical-align: top\">0</td>\n",
       "        <td style=\"padding-left: 1em; padding-right: 1em; text-align: center; vertical-align: top\"></td>\n",
       "        <td style=\"padding-left: 1em; padding-right: 1em; text-align: center; vertical-align: top\"></td>\n",
       "        <td style=\"padding-left: 1em; padding-right: 1em; text-align: center; vertical-align: top\"></td>\n",
       "        <td style=\"padding-left: 1em; padding-right: 1em; text-align: center; vertical-align: top\"></td>\n",
       "        <td style=\"padding-left: 1em; padding-right: 1em; text-align: center; vertical-align: top\"></td>\n",
       "    </tr>\n",
       "    <tr>\n",
       "        <td style=\"padding-left: 1em; padding-right: 1em; text-align: center; vertical-align: top\">0x0000</td>\n",
       "        <td style=\"padding-left: 1em; padding-right: 1em; text-align: center; vertical-align: top\">0</td>\n",
       "        <td style=\"padding-left: 1em; padding-right: 1em; text-align: center; vertical-align: top\"></td>\n",
       "        <td style=\"padding-left: 1em; padding-right: 1em; text-align: center; vertical-align: top\"></td>\n",
       "        <td style=\"padding-left: 1em; padding-right: 1em; text-align: center; vertical-align: top\"></td>\n",
       "        <td style=\"padding-left: 1em; padding-right: 1em; text-align: center; vertical-align: top\"></td>\n",
       "        <td style=\"padding-left: 1em; padding-right: 1em; text-align: center; vertical-align: top\"></td>\n",
       "    </tr>\n",
       "</table>\n",
       "<table frame=\"box\" rules=\"cols\">\n",
       "    <tr>\n",
       "        <th style=\"padding-left: 1em; padding-right: 1em; text-align: center\">Destination GeoIP<br>Latitude ...</th>\n",
       "        <th style=\"padding-left: 1em; padding-right: 1em; text-align: center\">Destination GeoIP<br>Longitude ...</th>\n",
       "        <th style=\"padding-left: 1em; padding-right: 1em; text-align: center\">TCP Segment Len</th>\n",
       "        <th style=\"padding-left: 1em; padding-right: 1em; text-align: center\">Time to live</th>\n",
       "        <th style=\"padding-left: 1em; padding-right: 1em; text-align: center\">isBot</th>\n",
       "        <th style=\"padding-left: 1em; padding-right: 1em; text-align: center\">UFid</th>\n",
       "        <th style=\"padding-left: 1em; padding-right: 1em; text-align: center\">Forward</th>\n",
       "        <th style=\"padding-left: 1em; padding-right: 1em; text-align: center\">Flow</th>\n",
       "    </tr>\n",
       "    <tr>\n",
       "        <td style=\"padding-left: 1em; padding-right: 1em; text-align: center; vertical-align: top\"></td>\n",
       "        <td style=\"padding-left: 1em; padding-right: 1em; text-align: center; vertical-align: top\"></td>\n",
       "        <td style=\"padding-left: 1em; padding-right: 1em; text-align: center; vertical-align: top\"></td>\n",
       "        <td style=\"padding-left: 1em; padding-right: 1em; text-align: center; vertical-align: top\">107</td>\n",
       "        <td style=\"padding-left: 1em; padding-right: 1em; text-align: center; vertical-align: top\">0</td>\n",
       "        <td style=\"padding-left: 1em; padding-right: 1em; text-align: center; vertical-align: top\">--30319-49999-IEEE<br>802.15.4 ...</td>\n",
       "        <td style=\"padding-left: 1em; padding-right: 1em; text-align: center; vertical-align: top\">0</td>\n",
       "        <td style=\"padding-left: 1em; padding-right: 1em; text-align: center; vertical-align: top\">0</td>\n",
       "    </tr>\n",
       "    <tr>\n",
       "        <td style=\"padding-left: 1em; padding-right: 1em; text-align: center; vertical-align: top\"></td>\n",
       "        <td style=\"padding-left: 1em; padding-right: 1em; text-align: center; vertical-align: top\"></td>\n",
       "        <td style=\"padding-left: 1em; padding-right: 1em; text-align: center; vertical-align: top\"></td>\n",
       "        <td style=\"padding-left: 1em; padding-right: 1em; text-align: center; vertical-align: top\">127</td>\n",
       "        <td style=\"padding-left: 1em; padding-right: 1em; text-align: center; vertical-align: top\">0</td>\n",
       "        <td style=\"padding-left: 1em; padding-right: 1em; text-align: center; vertical-align: top\">--49999-30319-IEEE<br>802.15.4 ...</td>\n",
       "        <td style=\"padding-left: 1em; padding-right: 1em; text-align: center; vertical-align: top\">0</td>\n",
       "        <td style=\"padding-left: 1em; padding-right: 1em; text-align: center; vertical-align: top\">1</td>\n",
       "    </tr>\n",
       "    <tr>\n",
       "        <td style=\"padding-left: 1em; padding-right: 1em; text-align: center; vertical-align: top\"></td>\n",
       "        <td style=\"padding-left: 1em; padding-right: 1em; text-align: center; vertical-align: top\"></td>\n",
       "        <td style=\"padding-left: 1em; padding-right: 1em; text-align: center; vertical-align: top\"></td>\n",
       "        <td style=\"padding-left: 1em; padding-right: 1em; text-align: center; vertical-align: top\">127</td>\n",
       "        <td style=\"padding-left: 1em; padding-right: 1em; text-align: center; vertical-align: top\">0</td>\n",
       "        <td style=\"padding-left: 1em; padding-right: 1em; text-align: center; vertical-align: top\">--49999-30319-IEEE<br>802.15.4 ...</td>\n",
       "        <td style=\"padding-left: 1em; padding-right: 1em; text-align: center; vertical-align: top\">0</td>\n",
       "        <td style=\"padding-left: 1em; padding-right: 1em; text-align: center; vertical-align: top\">1</td>\n",
       "    </tr>\n",
       "    <tr>\n",
       "        <td style=\"padding-left: 1em; padding-right: 1em; text-align: center; vertical-align: top\"></td>\n",
       "        <td style=\"padding-left: 1em; padding-right: 1em; text-align: center; vertical-align: top\"></td>\n",
       "        <td style=\"padding-left: 1em; padding-right: 1em; text-align: center; vertical-align: top\"></td>\n",
       "        <td style=\"padding-left: 1em; padding-right: 1em; text-align: center; vertical-align: top\">127</td>\n",
       "        <td style=\"padding-left: 1em; padding-right: 1em; text-align: center; vertical-align: top\">0</td>\n",
       "        <td style=\"padding-left: 1em; padding-right: 1em; text-align: center; vertical-align: top\">--49999-30319-IEEE<br>802.15.4 ...</td>\n",
       "        <td style=\"padding-left: 1em; padding-right: 1em; text-align: center; vertical-align: top\">0</td>\n",
       "        <td style=\"padding-left: 1em; padding-right: 1em; text-align: center; vertical-align: top\">1</td>\n",
       "    </tr>\n",
       "    <tr>\n",
       "        <td style=\"padding-left: 1em; padding-right: 1em; text-align: center; vertical-align: top\"></td>\n",
       "        <td style=\"padding-left: 1em; padding-right: 1em; text-align: center; vertical-align: top\"></td>\n",
       "        <td style=\"padding-left: 1em; padding-right: 1em; text-align: center; vertical-align: top\"></td>\n",
       "        <td style=\"padding-left: 1em; padding-right: 1em; text-align: center; vertical-align: top\">127</td>\n",
       "        <td style=\"padding-left: 1em; padding-right: 1em; text-align: center; vertical-align: top\">0</td>\n",
       "        <td style=\"padding-left: 1em; padding-right: 1em; text-align: center; vertical-align: top\">--49999-30319-IEEE<br>802.15.4 ...</td>\n",
       "        <td style=\"padding-left: 1em; padding-right: 1em; text-align: center; vertical-align: top\">0</td>\n",
       "        <td style=\"padding-left: 1em; padding-right: 1em; text-align: center; vertical-align: top\">1</td>\n",
       "    </tr>\n",
       "    <tr>\n",
       "        <td style=\"padding-left: 1em; padding-right: 1em; text-align: center; vertical-align: top\"></td>\n",
       "        <td style=\"padding-left: 1em; padding-right: 1em; text-align: center; vertical-align: top\"></td>\n",
       "        <td style=\"padding-left: 1em; padding-right: 1em; text-align: center; vertical-align: top\"></td>\n",
       "        <td style=\"padding-left: 1em; padding-right: 1em; text-align: center; vertical-align: top\">127</td>\n",
       "        <td style=\"padding-left: 1em; padding-right: 1em; text-align: center; vertical-align: top\">0</td>\n",
       "        <td style=\"padding-left: 1em; padding-right: 1em; text-align: center; vertical-align: top\">--49999-30319-IEEE<br>802.15.4 ...</td>\n",
       "        <td style=\"padding-left: 1em; padding-right: 1em; text-align: center; vertical-align: top\">0</td>\n",
       "        <td style=\"padding-left: 1em; padding-right: 1em; text-align: center; vertical-align: top\">1</td>\n",
       "    </tr>\n",
       "    <tr>\n",
       "        <td style=\"padding-left: 1em; padding-right: 1em; text-align: center; vertical-align: top\"></td>\n",
       "        <td style=\"padding-left: 1em; padding-right: 1em; text-align: center; vertical-align: top\"></td>\n",
       "        <td style=\"padding-left: 1em; padding-right: 1em; text-align: center; vertical-align: top\"></td>\n",
       "        <td style=\"padding-left: 1em; padding-right: 1em; text-align: center; vertical-align: top\">127</td>\n",
       "        <td style=\"padding-left: 1em; padding-right: 1em; text-align: center; vertical-align: top\">0</td>\n",
       "        <td style=\"padding-left: 1em; padding-right: 1em; text-align: center; vertical-align: top\">--49999-30319-IEEE<br>802.15.4 ...</td>\n",
       "        <td style=\"padding-left: 1em; padding-right: 1em; text-align: center; vertical-align: top\">0</td>\n",
       "        <td style=\"padding-left: 1em; padding-right: 1em; text-align: center; vertical-align: top\">1</td>\n",
       "    </tr>\n",
       "    <tr>\n",
       "        <td style=\"padding-left: 1em; padding-right: 1em; text-align: center; vertical-align: top\"></td>\n",
       "        <td style=\"padding-left: 1em; padding-right: 1em; text-align: center; vertical-align: top\"></td>\n",
       "        <td style=\"padding-left: 1em; padding-right: 1em; text-align: center; vertical-align: top\"></td>\n",
       "        <td style=\"padding-left: 1em; padding-right: 1em; text-align: center; vertical-align: top\">127</td>\n",
       "        <td style=\"padding-left: 1em; padding-right: 1em; text-align: center; vertical-align: top\">0</td>\n",
       "        <td style=\"padding-left: 1em; padding-right: 1em; text-align: center; vertical-align: top\">--49999-30319-IEEE<br>802.15.4 ...</td>\n",
       "        <td style=\"padding-left: 1em; padding-right: 1em; text-align: center; vertical-align: top\">0</td>\n",
       "        <td style=\"padding-left: 1em; padding-right: 1em; text-align: center; vertical-align: top\">1</td>\n",
       "    </tr>\n",
       "    <tr>\n",
       "        <td style=\"padding-left: 1em; padding-right: 1em; text-align: center; vertical-align: top\"></td>\n",
       "        <td style=\"padding-left: 1em; padding-right: 1em; text-align: center; vertical-align: top\"></td>\n",
       "        <td style=\"padding-left: 1em; padding-right: 1em; text-align: center; vertical-align: top\"></td>\n",
       "        <td style=\"padding-left: 1em; padding-right: 1em; text-align: center; vertical-align: top\">127</td>\n",
       "        <td style=\"padding-left: 1em; padding-right: 1em; text-align: center; vertical-align: top\">0</td>\n",
       "        <td style=\"padding-left: 1em; padding-right: 1em; text-align: center; vertical-align: top\">--49999-30319-IEEE<br>802.15.4 ...</td>\n",
       "        <td style=\"padding-left: 1em; padding-right: 1em; text-align: center; vertical-align: top\">0</td>\n",
       "        <td style=\"padding-left: 1em; padding-right: 1em; text-align: center; vertical-align: top\">1</td>\n",
       "    </tr>\n",
       "    <tr>\n",
       "        <td style=\"padding-left: 1em; padding-right: 1em; text-align: center; vertical-align: top\"></td>\n",
       "        <td style=\"padding-left: 1em; padding-right: 1em; text-align: center; vertical-align: top\"></td>\n",
       "        <td style=\"padding-left: 1em; padding-right: 1em; text-align: center; vertical-align: top\"></td>\n",
       "        <td style=\"padding-left: 1em; padding-right: 1em; text-align: center; vertical-align: top\">127</td>\n",
       "        <td style=\"padding-left: 1em; padding-right: 1em; text-align: center; vertical-align: top\">0</td>\n",
       "        <td style=\"padding-left: 1em; padding-right: 1em; text-align: center; vertical-align: top\">--49999-30319-IEEE<br>802.15.4 ...</td>\n",
       "        <td style=\"padding-left: 1em; padding-right: 1em; text-align: center; vertical-align: top\">0</td>\n",
       "        <td style=\"padding-left: 1em; padding-right: 1em; text-align: center; vertical-align: top\">1</td>\n",
       "    </tr>\n",
       "</table>\n",
       "<table frame=\"box\" rules=\"cols\">\n",
       "    <tr>\n",
       "        <th style=\"padding-left: 1em; padding-right: 1em; text-align: center\">FlowNo.</th>\n",
       "    </tr>\n",
       "    <tr>\n",
       "        <td style=\"padding-left: 1em; padding-right: 1em; text-align: center; vertical-align: top\">0</td>\n",
       "    </tr>\n",
       "    <tr>\n",
       "        <td style=\"padding-left: 1em; padding-right: 1em; text-align: center; vertical-align: top\">1</td>\n",
       "    </tr>\n",
       "    <tr>\n",
       "        <td style=\"padding-left: 1em; padding-right: 1em; text-align: center; vertical-align: top\">1</td>\n",
       "    </tr>\n",
       "    <tr>\n",
       "        <td style=\"padding-left: 1em; padding-right: 1em; text-align: center; vertical-align: top\">1</td>\n",
       "    </tr>\n",
       "    <tr>\n",
       "        <td style=\"padding-left: 1em; padding-right: 1em; text-align: center; vertical-align: top\">1</td>\n",
       "    </tr>\n",
       "    <tr>\n",
       "        <td style=\"padding-left: 1em; padding-right: 1em; text-align: center; vertical-align: top\">1</td>\n",
       "    </tr>\n",
       "    <tr>\n",
       "        <td style=\"padding-left: 1em; padding-right: 1em; text-align: center; vertical-align: top\">1</td>\n",
       "    </tr>\n",
       "    <tr>\n",
       "        <td style=\"padding-left: 1em; padding-right: 1em; text-align: center; vertical-align: top\">1</td>\n",
       "    </tr>\n",
       "    <tr>\n",
       "        <td style=\"padding-left: 1em; padding-right: 1em; text-align: center; vertical-align: top\">1</td>\n",
       "    </tr>\n",
       "    <tr>\n",
       "        <td style=\"padding-left: 1em; padding-right: 1em; text-align: center; vertical-align: top\">1</td>\n",
       "    </tr>\n",
       "</table>\n",
       "[9360525 rows x 30 columns]<br/>Note: Only the head of the SFrame is printed.<br/>You can use print_rows(num_rows=m, num_columns=n) to print more rows and columns.\n",
       "</div>"
      ],
      "text/plain": [
       "Columns:\n",
       "\tNo.\tint\n",
       "\tTime\tfloat\n",
       "\tSource\tstr\n",
       "\tProtocol\tstr\n",
       "\tLength\tint\n",
       "\tSource Port\tstr\n",
       "\tDestination\tstr\n",
       "\tDestination Port\tstr\n",
       "\tudp_Length\tstr\n",
       "\tProtocols in frame\tstr\n",
       "\tInfo\tstr\n",
       "\tDifferentiated Services Field\tstr\n",
       "\tSequence number\tstr\n",
       "\tNext sequence number\tstr\n",
       "\tIP_Flags\tstr\n",
       "\ttcp_Flags\tint\n",
       "\tAnswer RRs\tstr\n",
       "\tSource GeoIP Country\tstr\n",
       "\tSource GeoIP Latitude\tstr\n",
       "\tSource GeoIP Longitude\tstr\n",
       "\tDestination GeoIP Country\tstr\n",
       "\tDestination GeoIP Latitude\tstr\n",
       "\tDestination GeoIP Longitude\tstr\n",
       "\tTCP Segment Len\tstr\n",
       "\tTime to live\tstr\n",
       "\tisBot\tint\n",
       "\tUFid\tstr\n",
       "\tForward\tint\n",
       "\tFlow\tint\n",
       "\tFlowNo.\tint\n",
       "\n",
       "Rows: 9360525\n",
       "\n",
       "Data:\n",
       "+---------+----------------+--------+---------------+--------+-------------+-------------+\n",
       "|   No.   |      Time      | Source |    Protocol   | Length | Source Port | Destination |\n",
       "+---------+----------------+--------+---------------+--------+-------------+-------------+\n",
       "| 2255379 | -121112382.05  |        | IEEE 802.15.4 |   70   |    49999    |             |\n",
       "| 2145566 | -121113062.71  |        | IEEE 802.15.4 |   88   |    30319    |             |\n",
       "| 2145702 | -121113061.371 |        | IEEE 802.15.4 |   84   |    30319    |             |\n",
       "| 2152740 | -121113006.007 |        | IEEE 802.15.4 |   96   |    30319    |             |\n",
       "| 2153680 |  -121113001.2  |        | IEEE 802.15.4 |   96   |    30319    |             |\n",
       "| 2170704 | -121112850.576 |        | IEEE 802.15.4 |   96   |    30319    |             |\n",
       "| 2180568 | -121112781.031 |        | IEEE 802.15.4 |   96   |    30319    |             |\n",
       "| 2196536 | -121112679.898 |        | IEEE 802.15.4 |   96   |    30319    |             |\n",
       "| 2212282 | -121112603.31  |        | IEEE 802.15.4 |   96   |    30319    |             |\n",
       "| 2255350 | -121112382.224 |        | IEEE 802.15.4 |   96   |    30319    |             |\n",
       "+---------+----------------+--------+---------------+--------+-------------+-------------+\n",
       "+------------------+------------+-------------------------------+\n",
       "| Destination Port | udp_Length |       Protocols in frame      |\n",
       "+------------------+------------+-------------------------------+\n",
       "|      30319       |     36     | eth:ethertype:ip:udp:nxp_8... |\n",
       "|      49999       |     50     | eth:ethertype:ip:udp:nxp_8... |\n",
       "|      49999       |     50     | eth:ethertype:ip:udp:nxp_8... |\n",
       "|      49999       |     73     | eth:ethertype:ip:udp:nxp_8... |\n",
       "|      49999       |     71     | eth:ethertype:ip:udp:nxp_8... |\n",
       "|      49999       |     71     | eth:ethertype:ip:udp:nxp_8... |\n",
       "|      49999       |     71     | eth:ethertype:ip:udp:nxp_8... |\n",
       "|      49999       |     71     | eth:ethertype:ip:udp:nxp_8... |\n",
       "|      49999       |     71     | eth:ethertype:ip:udp:nxp_8... |\n",
       "|      49999       |    108     | eth:ethertype:ip:udp:nxp_8... |\n",
       "+------------------+------------+-------------------------------+\n",
       "+--------------------------+-------------------------------+-----------------+----------------------+\n",
       "|           Info           | Differentiated Services Field | Sequence number | Next sequence number |\n",
       "+--------------------------+-------------------------------+-----------------+----------------------+\n",
       "| Beacon[Malformed Packet] |              0x00             |                 |                      |\n",
       "|       Multipurpose       |              0x00             |                 |                      |\n",
       "|       Multipurpose       |              0x00             |                 |                      |\n",
       "|       Multipurpose       |              0x00             |                 |                      |\n",
       "|       Multipurpose       |              0x00             |                 |                      |\n",
       "|       Multipurpose       |              0x00             |                 |                      |\n",
       "|       Multipurpose       |              0x00             |                 |                      |\n",
       "|       Multipurpose       |              0x00             |                 |                      |\n",
       "|       Multipurpose       |              0x00             |                 |                      |\n",
       "|       Multipurpose       |              0x00             |                 |                      |\n",
       "+--------------------------+-------------------------------+-----------------+----------------------+\n",
       "+----------+-----------+------------+----------------------+-----------------------+\n",
       "| IP_Flags | tcp_Flags | Answer RRs | Source GeoIP Country | Source GeoIP Latitude |\n",
       "+----------+-----------+------------+----------------------+-----------------------+\n",
       "|  0x0000  |     0     |            |                      |                       |\n",
       "|  0x0000  |     0     |            |                      |                       |\n",
       "|  0x0000  |     0     |            |                      |                       |\n",
       "|  0x0000  |     0     |            |                      |                       |\n",
       "|  0x0000  |     0     |            |                      |                       |\n",
       "|  0x0000  |     0     |            |                      |                       |\n",
       "|  0x0000  |     0     |            |                      |                       |\n",
       "|  0x0000  |     0     |            |                      |                       |\n",
       "|  0x0000  |     0     |            |                      |                       |\n",
       "|  0x0000  |     0     |            |                      |                       |\n",
       "+----------+-----------+------------+----------------------+-----------------------+\n",
       "+------------------------+-----+\n",
       "| Source GeoIP Longitude | ... |\n",
       "+------------------------+-----+\n",
       "|                        | ... |\n",
       "|                        | ... |\n",
       "|                        | ... |\n",
       "|                        | ... |\n",
       "|                        | ... |\n",
       "|                        | ... |\n",
       "|                        | ... |\n",
       "|                        | ... |\n",
       "|                        | ... |\n",
       "|                        | ... |\n",
       "+------------------------+-----+\n",
       "[9360525 rows x 30 columns]\n",
       "Note: Only the head of the SFrame is printed.\n",
       "You can use print_rows(num_rows=m, num_columns=n) to print more rows and columns."
      ]
     },
     "execution_count": 22,
     "metadata": {},
     "output_type": "execute_result"
    }
   ],
   "source": [
    "SF_tr.remove_column(\"New Column\")"
   ]
  },
  {
   "cell_type": "code",
   "execution_count": 23,
   "metadata": {
    "collapsed": false
   },
   "outputs": [],
   "source": [
    "SF_tr.save('ISCX_Botnet-Testing_Ports_Only_Sorted_Flow_BD.csv')"
   ]
  },
  {
   "cell_type": "code",
   "execution_count": 24,
   "metadata": {
    "collapsed": true
   },
   "outputs": [],
   "source": [
    "# this checks if the frame.protocols (Protocols in frame) field contains 'udp'\n",
    "def frameproto_udp(x):\n",
    "    if 'udp' in x.split(':'):\n",
    "        return 1\n",
    "    return 0\n",
    "SF_tr['hasUDP'] = SF_tr['Protocols in frame'].apply(lambda x:frameproto_udp(x))\n"
   ]
  },
  {
   "cell_type": "code",
   "execution_count": 25,
   "metadata": {
    "collapsed": true
   },
   "outputs": [],
   "source": [
    "# this checks if the frame.protocols (Protocols in frame) field contains 'smb' -- useful in detecting and server message block and file sharing access related packets are being exchanged\n",
    "def frameproto_smb(x):\n",
    "    if 'smb' in x.split(':'):\n",
    "        return 1\n",
    "    return 0\n",
    "SF_tr['hasSMB'] = SF_tr['Protocols in frame'].apply(lambda x:frameproto_smb(x))\n"
   ]
  },
  {
   "cell_type": "code",
   "execution_count": 26,
   "metadata": {
    "collapsed": false
   },
   "outputs": [
    {
     "data": {
      "text/plain": [
       "<bound method SFrame.head of Columns:\n",
       "\tNo.\tint\n",
       "\tTime\tfloat\n",
       "\tSource\tstr\n",
       "\tProtocol\tstr\n",
       "\tLength\tint\n",
       "\tSource Port\tstr\n",
       "\tDestination\tstr\n",
       "\tDestination Port\tstr\n",
       "\tudp_Length\tstr\n",
       "\tProtocols in frame\tstr\n",
       "\tInfo\tstr\n",
       "\tDifferentiated Services Field\tstr\n",
       "\tSequence number\tstr\n",
       "\tNext sequence number\tstr\n",
       "\tIP_Flags\tstr\n",
       "\ttcp_Flags\tint\n",
       "\tAnswer RRs\tstr\n",
       "\tSource GeoIP Country\tstr\n",
       "\tSource GeoIP Latitude\tstr\n",
       "\tSource GeoIP Longitude\tstr\n",
       "\tDestination GeoIP Country\tstr\n",
       "\tDestination GeoIP Latitude\tstr\n",
       "\tDestination GeoIP Longitude\tstr\n",
       "\tTCP Segment Len\tstr\n",
       "\tTime to live\tstr\n",
       "\tisBot\tint\n",
       "\tUFid\tstr\n",
       "\tForward\tint\n",
       "\tFlow\tint\n",
       "\tFlowNo.\tint\n",
       "\thasUDP\tint\n",
       "\thasSMB\tint\n",
       "\n",
       "Rows: 9360525\n",
       "\n",
       "Data:\n",
       "+---------+----------------+--------+---------------+--------+-------------+-------------+\n",
       "|   No.   |      Time      | Source |    Protocol   | Length | Source Port | Destination |\n",
       "+---------+----------------+--------+---------------+--------+-------------+-------------+\n",
       "| 2255379 | -121112382.05  |        | IEEE 802.15.4 |   70   |    49999    |             |\n",
       "| 2145566 | -121113062.71  |        | IEEE 802.15.4 |   88   |    30319    |             |\n",
       "| 2145702 | -121113061.371 |        | IEEE 802.15.4 |   84   |    30319    |             |\n",
       "| 2152740 | -121113006.007 |        | IEEE 802.15.4 |   96   |    30319    |             |\n",
       "| 2153680 |  -121113001.2  |        | IEEE 802.15.4 |   96   |    30319    |             |\n",
       "| 2170704 | -121112850.576 |        | IEEE 802.15.4 |   96   |    30319    |             |\n",
       "| 2180568 | -121112781.031 |        | IEEE 802.15.4 |   96   |    30319    |             |\n",
       "| 2196536 | -121112679.898 |        | IEEE 802.15.4 |   96   |    30319    |             |\n",
       "| 2212282 | -121112603.31  |        | IEEE 802.15.4 |   96   |    30319    |             |\n",
       "| 2255350 | -121112382.224 |        | IEEE 802.15.4 |   96   |    30319    |             |\n",
       "+---------+----------------+--------+---------------+--------+-------------+-------------+\n",
       "+------------------+------------+-------------------------------+\n",
       "| Destination Port | udp_Length |       Protocols in frame      |\n",
       "+------------------+------------+-------------------------------+\n",
       "|      30319       |     36     | eth:ethertype:ip:udp:nxp_8... |\n",
       "|      49999       |     50     | eth:ethertype:ip:udp:nxp_8... |\n",
       "|      49999       |     50     | eth:ethertype:ip:udp:nxp_8... |\n",
       "|      49999       |     73     | eth:ethertype:ip:udp:nxp_8... |\n",
       "|      49999       |     71     | eth:ethertype:ip:udp:nxp_8... |\n",
       "|      49999       |     71     | eth:ethertype:ip:udp:nxp_8... |\n",
       "|      49999       |     71     | eth:ethertype:ip:udp:nxp_8... |\n",
       "|      49999       |     71     | eth:ethertype:ip:udp:nxp_8... |\n",
       "|      49999       |     71     | eth:ethertype:ip:udp:nxp_8... |\n",
       "|      49999       |    108     | eth:ethertype:ip:udp:nxp_8... |\n",
       "+------------------+------------+-------------------------------+\n",
       "+--------------------------+-------------------------------+-----------------+----------------------+\n",
       "|           Info           | Differentiated Services Field | Sequence number | Next sequence number |\n",
       "+--------------------------+-------------------------------+-----------------+----------------------+\n",
       "| Beacon[Malformed Packet] |              0x00             |                 |                      |\n",
       "|       Multipurpose       |              0x00             |                 |                      |\n",
       "|       Multipurpose       |              0x00             |                 |                      |\n",
       "|       Multipurpose       |              0x00             |                 |                      |\n",
       "|       Multipurpose       |              0x00             |                 |                      |\n",
       "|       Multipurpose       |              0x00             |                 |                      |\n",
       "|       Multipurpose       |              0x00             |                 |                      |\n",
       "|       Multipurpose       |              0x00             |                 |                      |\n",
       "|       Multipurpose       |              0x00             |                 |                      |\n",
       "|       Multipurpose       |              0x00             |                 |                      |\n",
       "+--------------------------+-------------------------------+-----------------+----------------------+\n",
       "+----------+-----------+------------+----------------------+-----------------------+\n",
       "| IP_Flags | tcp_Flags | Answer RRs | Source GeoIP Country | Source GeoIP Latitude |\n",
       "+----------+-----------+------------+----------------------+-----------------------+\n",
       "|  0x0000  |     0     |            |                      |                       |\n",
       "|  0x0000  |     0     |            |                      |                       |\n",
       "|  0x0000  |     0     |            |                      |                       |\n",
       "|  0x0000  |     0     |            |                      |                       |\n",
       "|  0x0000  |     0     |            |                      |                       |\n",
       "|  0x0000  |     0     |            |                      |                       |\n",
       "|  0x0000  |     0     |            |                      |                       |\n",
       "|  0x0000  |     0     |            |                      |                       |\n",
       "|  0x0000  |     0     |            |                      |                       |\n",
       "|  0x0000  |     0     |            |                      |                       |\n",
       "+----------+-----------+------------+----------------------+-----------------------+\n",
       "+------------------------+-----+\n",
       "| Source GeoIP Longitude | ... |\n",
       "+------------------------+-----+\n",
       "|                        | ... |\n",
       "|                        | ... |\n",
       "|                        | ... |\n",
       "|                        | ... |\n",
       "|                        | ... |\n",
       "|                        | ... |\n",
       "|                        | ... |\n",
       "|                        | ... |\n",
       "|                        | ... |\n",
       "|                        | ... |\n",
       "+------------------------+-----+\n",
       "[9360525 rows x 32 columns]\n",
       "Note: Only the head of the SFrame is printed.\n",
       "You can use print_rows(num_rows=m, num_columns=n) to print more rows and columns.>"
      ]
     },
     "execution_count": 26,
     "metadata": {},
     "output_type": "execute_result"
    }
   ],
   "source": [
    "SF_tr.head"
   ]
  },
  {
   "cell_type": "code",
   "execution_count": 27,
   "metadata": {
    "collapsed": false
   },
   "outputs": [],
   "source": [
    "# IOPR -- Ratio of incoming to outgoing packets (very important in terms of detecting any suspicious IRC type flows)\n",
    "temp = SF_tr.groupby('FlowNo.',{\n",
    "        'NumForward' : gl.aggregate.SUM('Forward'),\n",
    "        'Total' : gl.aggregate.COUNT()\n",
    "    })\n",
    "temp['IOPR'] = temp.apply(lambda x:((x['Total']-x['NumForward'])*1.0)/x['NumForward'] if x['NumForward'] != 0 else (-1))\n",
    "temp = temp['FlowNo.', 'IOPR']"
   ]
  },
  {
   "cell_type": "code",
   "execution_count": 28,
   "metadata": {
    "collapsed": false
   },
   "outputs": [
    {
     "data": {
      "text/plain": [
       "360214"
      ]
     },
     "execution_count": 28,
     "metadata": {},
     "output_type": "execute_result"
    }
   ],
   "source": [
    "# check how many flows are incoming\n",
    "len(temp[temp['IOPR'] != -1])"
   ]
  },
  {
   "cell_type": "code",
   "execution_count": 29,
   "metadata": {
    "collapsed": false
   },
   "outputs": [
    {
     "data": {
      "text/plain": [
       "dtype: float\n",
       "Rows: 9360525\n",
       "[-1.0, -1.0, -1.0, -1.0, -1.0, -1.0, -1.0, -1.0, -1.0, -1.0, 0.0, 0.0, 0.0, 0.0, 0.0, 0.0, 0.0, 0.0, 0.0, 0.0, 0.0, 0.0, 0.0, 0.0, 0.5, 0.5, 0.5, 0.5, 0.5, 0.5, 0.5, 0.5, 0.5, 0.0, 0.0, 0.0, 0.0, -1.0, -1.0, -1.0, 0.0, 0.0, 0.0, 0.0, 0.0, 0.0, 0.0, 0.0, 0.0, 0.0, 0.0, 0.0, 0.0, 0.0, 0.0, 0.0, 0.0, 0.0, 0.0, 0.0, 0.0, 0.0, 0.0, 0.0, 0.0, 0.0, 0.0, 0.0, 0.0, 0.0, 0.0, 0.0, 0.0, 0.0, 0.0, 0.0, 0.0, 0.0, 0.0, 0.0, 0.0, 0.0, 0.0, 0.0, 0.0, 0.0, 0.0, 0.0, 0.0, 0.0, 0.0, 0.0, 0.0, 0.0, 0.0, 0.0, 0.0, 0.0, 0.0, 0.0, ... ]"
      ]
     },
     "execution_count": 29,
     "metadata": {},
     "output_type": "execute_result"
    }
   ],
   "source": [
    "SF_tr = SF_tr.join(temp, on='FlowNo.') # add the IOPR column to SFrame\n",
    "SF_tr['IOPR']"
   ]
  },
  {
   "cell_type": "code",
   "execution_count": 30,
   "metadata": {
    "collapsed": false
   },
   "outputs": [
    {
     "name": "stdout",
     "output_type": "stream",
     "text": [
      "485622\n",
      "485622\n",
      "+---------+------------+\n",
      "| FlowNo. | NumPackets |\n",
      "+---------+------------+\n",
      "|  60114  |     2      |\n",
      "|  196583 |     5      |\n",
      "|  23107  |     1      |\n",
      "+---------+------------+\n",
      "[3 rows x 2 columns]\n",
      "\n"
     ]
    },
    {
     "data": {
      "text/plain": [
       "['Answer RRs',\n",
       " 'BytesEx',\n",
       " 'Destination',\n",
       " 'Destination GeoIP Country',\n",
       " 'Destination GeoIP Latitude',\n",
       " 'Destination GeoIP Longitude',\n",
       " 'Destination Port',\n",
       " 'Differentiated Services Field',\n",
       " 'Duration',\n",
       " 'FPL',\n",
       " 'Flow',\n",
       " 'FlowNo.',\n",
       " 'Forward',\n",
       " 'IOPR',\n",
       " 'IP_Flags',\n",
       " 'Info',\n",
       " 'Length',\n",
       " 'Next sequence number',\n",
       " 'No.',\n",
       " 'NumPackets',\n",
       " 'Protocol',\n",
       " 'Protocols in frame',\n",
       " 'SameLenPktRatio',\n",
       " 'Sequence number',\n",
       " 'Source',\n",
       " 'Source GeoIP Country',\n",
       " 'Source GeoIP Latitude',\n",
       " 'Source GeoIP Longitude',\n",
       " 'Source Port',\n",
       " 'StdDevLen',\n",
       " 'TCP Segment Len',\n",
       " 'Time',\n",
       " 'Time to live',\n",
       " 'UFid',\n",
       " 'hasSMB',\n",
       " 'hasUDP',\n",
       " 'isBot',\n",
       " 'tcp_Flags',\n",
       " 'udp_Length']"
      ]
     },
     "execution_count": 30,
     "metadata": {},
     "output_type": "execute_result"
    }
   ],
   "source": [
    "# Extraction of numerical and time-based derived packet features from raw features and sorted bi-directional flow\n",
    "\n",
    "# First Packet Length\n",
    "\n",
    "FlowFeatures = ['Source', 'Destination', 'Source Port', 'Destination Port', 'Protocol'] # 5-tuple flow-id features\n",
    "\n",
    "FPL = SF_tr.groupby(['FlowNo.'],{\n",
    "        'Time':gl.aggregate.MIN('Time')\n",
    "    })\n",
    "print len(FPL)\n",
    "FPL = FPL.join(SF_tr,on =['FlowNo.','Time'])[['FlowNo.','Length']].unique()\n",
    "FPL = FPL.groupby(['FlowNo.'],{\n",
    "        'FPL':gl.aggregate.AVG('Length')\n",
    "    })\n",
    "print len(FPL)\n",
    "\n",
    "\n",
    "SF_tr = SF_tr.join(FPL, on='FlowNo.')\n",
    "del(FPL)\n",
    "\n",
    "# Number of packets per flow\n",
    "temp = SF_tr.groupby(['FlowNo.'],{\n",
    "        'NumPackets':gl.aggregate.COUNT()\n",
    "    })\n",
    "print temp.head(3)\n",
    "SF_tr = SF_tr.join(temp, on ='FlowNo.')\n",
    "del(temp)\n",
    "\n",
    "# Number of bytes exchanged\n",
    "temp = SF_tr.groupby(['FlowNo.'],{\n",
    "        'BytesEx':gl.aggregate.SUM('Length')\n",
    "    })\n",
    "SF_tr = SF_tr.join(temp, on ='FlowNo.')\n",
    "del(temp)\n",
    "\n",
    "\n",
    "# Standard deviation of packet length\n",
    "temp = SF_tr.groupby(['FlowNo.'],{\n",
    "        'StdDevLen':gl.aggregate.STDV('Length')\n",
    "    })\n",
    "SF_tr = SF_tr.join(temp, on ='FlowNo.')\n",
    "del(temp)\n",
    "\n",
    "# Same length packet ratio\n",
    "temp2 = SF_tr.groupby(['FlowNo.'],{\n",
    "        'SameLenPktRatio':gl.aggregate.COUNT_DISTINCT('Length')\n",
    "    })\n",
    "\n",
    "# temp from number of packets computation\n",
    "temp = SF_tr.groupby(['FlowNo.'],{\n",
    "        'NumPackets':gl.aggregate.COUNT()\n",
    "    })\n",
    "temp = temp.join(temp2,on='FlowNo.')\n",
    "temp['SameLenPktRatio'] = temp['SameLenPktRatio']*1.0 / temp['NumPackets']\n",
    "temp2 = None\n",
    "temp = temp[['FlowNo.','SameLenPktRatio']]\n",
    "SF_tr = SF_tr.join(temp, on ='FlowNo.')\n",
    "\n",
    "\n",
    "# Duration of flow\n",
    "timeF = SF_tr.groupby(['FlowNo.'],{\n",
    "        'startTime':gl.aggregate.MIN('Time'),\n",
    "        'endTime':gl.aggregate.MAX('Time')\n",
    "    })\n",
    "timeF['Duration'] = timeF['endTime'] - timeF['startTime']\n",
    "timeF = timeF[['FlowNo.','Duration']]\n",
    "SF_tr = SF_tr.join(timeF, on ='FlowNo.')\n",
    "\n",
    "\n",
    "sorted(SF_tr.column_names())"
   ]
  },
  {
   "cell_type": "code",
   "execution_count": 47,
   "metadata": {
    "collapsed": false,
    "scrolled": true
   },
   "outputs": [
    {
     "data": {
      "text/plain": [
       "<bound method SFrame.head of Columns:\n",
       "\tNo.\tint\n",
       "\tTime\tfloat\n",
       "\tSource\tstr\n",
       "\tDestination\tstr\n",
       "\tProtocol\tstr\n",
       "\tLength\tint\n",
       "\tProtocols in frame\tstr\n",
       "\tSource Port\tstr\n",
       "\tDestination Port\tstr\n",
       "\tTCP Segment Len\tstr\n",
       "\tNext sequence number\tstr\n",
       "\ttcp_Flags\tint\n",
       "\tDifferentiated Services Field\tstr\n",
       "\tIP_Flags\tstr\n",
       "\tTotal Length\tstr\n",
       "\tTime to live\tstr\n",
       "\tInfo\tstr\n",
       "\tSource GeoIP Country\tstr\n",
       "\tSource GeoIP Latitude\tstr\n",
       "\tSource GeoIP Longitude\tstr\n",
       "\tDestination GeoIP Latitude\tstr\n",
       "\tDestination GeoIP Longitude\tstr\n",
       "\tDestination GeoIP Country\tstr\n",
       "\tAnswer RRs\tstr\n",
       "\tudp_Length\tstr\n",
       "\tAnswer RRs.1\tstr\n",
       "\tDestination Host\tstr\n",
       "\tisBot\tint\n",
       "\tUFid\tstr\n",
       "\tForward\tint\n",
       "\tFlow\tint\n",
       "\tFlowNo.\tint\n",
       "\thasUDP\tint\n",
       "\thasSMB\tint\n",
       "\tIOPR\tfloat\n",
       "\tFPL\tfloat\n",
       "\tNumPackets\tint\n",
       "\tBytesEx\tint\n",
       "\tStdDevLen\tfloat\n",
       "\tSameLenPktRatio\tfloat\n",
       "\tDuration\tfloat\n",
       "\n",
       "Rows: 8643056\n",
       "\n",
       "Data:\n",
       "+--------+---------------+---------------+-----------------+----------+--------+\n",
       "|  No.   |      Time     |     Source    |   Destination   | Protocol | Length |\n",
       "+--------+---------------+---------------+-----------------+----------+--------+\n",
       "| 819351 | 453240.146507 | 147.32.84.160 |   1.22.16.143   |   TCP    |   62   |\n",
       "| 819352 | 453240.146514 | 147.32.84.160 |   1.22.16.143   |   TCP    |   62   |\n",
       "| 819384 | 453243.150744 | 147.32.84.160 |   1.22.16.143   |   TCP    |   62   |\n",
       "| 819385 | 453243.150747 | 147.32.84.160 |   1.22.16.143   |   TCP    |   62   |\n",
       "| 819616 | 453249.159548 | 147.32.84.160 |   1.22.16.143   |   TCP    |   62   |\n",
       "| 819617 | 453249.159556 | 147.32.84.160 |   1.22.16.143   |   TCP    |   62   |\n",
       "| 819151 | 453192.242578 | 147.32.84.160 | 109.200.239.148 |   TCP    |   62   |\n",
       "| 819152 | 453192.242585 | 147.32.84.160 | 109.200.239.148 |   TCP    |   62   |\n",
       "| 819178 | 453195.182192 | 147.32.84.160 | 109.200.239.148 |   TCP    |   62   |\n",
       "| 819179 | 453195.182195 | 147.32.84.160 | 109.200.239.148 |   TCP    |   62   |\n",
       "+--------+---------------+---------------+-----------------+----------+--------+\n",
       "+----------------------+-------------+------------------+-----------------+----------------------+\n",
       "|  Protocols in frame  | Source Port | Destination Port | TCP Segment Len | Next sequence number |\n",
       "+----------------------+-------------+------------------+-----------------+----------------------+\n",
       "| eth:ethertype:ip:tcp |     1085    |       3128       |        0        |          0           |\n",
       "| eth:ethertype:ip:tcp |     1085    |       3128       |        0        |          0           |\n",
       "| eth:ethertype:ip:tcp |     1085    |       3128       |        0        |          0           |\n",
       "| eth:ethertype:ip:tcp |     1085    |       3128       |        0        |          0           |\n",
       "| eth:ethertype:ip:tcp |     1085    |       3128       |        0        |          0           |\n",
       "| eth:ethertype:ip:tcp |     1085    |       3128       |        0        |          0           |\n",
       "| eth:ethertype:ip:tcp |     1066    |       3128       |        0        |          0           |\n",
       "| eth:ethertype:ip:tcp |     1066    |       3128       |        0        |          0           |\n",
       "| eth:ethertype:ip:tcp |     1066    |       3128       |        0        |          0           |\n",
       "| eth:ethertype:ip:tcp |     1066    |       3128       |        0        |          0           |\n",
       "+----------------------+-------------+------------------+-----------------+----------------------+\n",
       "+-----------+-------------------------------+----------+--------------+--------------+\n",
       "| tcp_Flags | Differentiated Services Field | IP_Flags | Total Length | Time to live |\n",
       "+-----------+-------------------------------+----------+--------------+--------------+\n",
       "|     2     |              0x00             |  0x4000  |      48      |     128      |\n",
       "|     2     |              0x00             |  0x4000  |      48      |     128      |\n",
       "|     2     |              0x00             |  0x4000  |      48      |     128      |\n",
       "|     2     |              0x00             |  0x4000  |      48      |     128      |\n",
       "|     2     |              0x00             |  0x4000  |      48      |     128      |\n",
       "|     2     |              0x00             |  0x4000  |      48      |     128      |\n",
       "|     2     |              0x00             |  0x4000  |      48      |     128      |\n",
       "|     2     |              0x00             |  0x4000  |      48      |     128      |\n",
       "|     2     |              0x00             |  0x4000  |      48      |     128      |\n",
       "|     2     |              0x00             |  0x4000  |      48      |     128      |\n",
       "+-----------+-------------------------------+----------+--------------+--------------+\n",
       "+-------------------------------+----------------------+-----------------------+\n",
       "|              Info             | Source GeoIP Country | Source GeoIP Latitude |\n",
       "+-------------------------------+----------------------+-----------------------+\n",
       "| 1085  >  3128 [SYN] Seq=0 ... |                      |                       |\n",
       "| [TCP Out-Of-Order] 1085  >... |                      |                       |\n",
       "| [TCP Retransmission] 1085 ... |                      |                       |\n",
       "| [TCP Retransmission] 1085 ... |                      |                       |\n",
       "| [TCP Retransmission] 1085 ... |                      |                       |\n",
       "| [TCP Retransmission] 1085 ... |                      |                       |\n",
       "| 1066  >  3128 [SYN] Seq=0 ... |                      |                       |\n",
       "| [TCP Out-Of-Order] 1066  >... |                      |                       |\n",
       "| [TCP Retransmission] 1066 ... |                      |                       |\n",
       "| [TCP Retransmission] 1066 ... |                      |                       |\n",
       "+-------------------------------+----------------------+-----------------------+\n",
       "+------------------------+-----+\n",
       "| Source GeoIP Longitude | ... |\n",
       "+------------------------+-----+\n",
       "|                        | ... |\n",
       "|                        | ... |\n",
       "|                        | ... |\n",
       "|                        | ... |\n",
       "|                        | ... |\n",
       "|                        | ... |\n",
       "|                        | ... |\n",
       "|                        | ... |\n",
       "|                        | ... |\n",
       "|                        | ... |\n",
       "+------------------------+-----+\n",
       "[8643056 rows x 41 columns]\n",
       "Note: Only the head of the SFrame is printed.\n",
       "You can use print_rows(num_rows=m, num_columns=n) to print more rows and columns.>"
      ]
     },
     "execution_count": 47,
     "metadata": {},
     "output_type": "execute_result"
    }
   ],
   "source": [
    "SF_tr.head"
   ]
  },
  {
   "cell_type": "code",
   "execution_count": 31,
   "metadata": {
    "collapsed": false
   },
   "outputs": [
    {
     "name": "stdout",
     "output_type": "stream",
     "text": [
      "+---------+----------------+-------------------------+---------------+--------+\n",
      "|   No.   |      Time      |          Source         |    Protocol   | Length |\n",
      "+---------+----------------+-------------------------+---------------+--------+\n",
      "| 2255379 | -121112382.05  |                         | IEEE 802.15.4 |   70   |\n",
      "| 2145566 | -121113062.71  |                         | IEEE 802.15.4 |   88   |\n",
      "| 2145702 | -121113061.371 |                         | IEEE 802.15.4 |   84   |\n",
      "| 2152740 | -121113006.007 |                         | IEEE 802.15.4 |   96   |\n",
      "| 2153680 |  -121113001.2  |                         | IEEE 802.15.4 |   96   |\n",
      "| 2170704 | -121112850.576 |                         | IEEE 802.15.4 |   96   |\n",
      "| 2180568 | -121112781.031 |                         | IEEE 802.15.4 |   96   |\n",
      "| 2196536 | -121112679.898 |                         | IEEE 802.15.4 |   96   |\n",
      "| 2212282 | -121112603.31  |                         | IEEE 802.15.4 |   96   |\n",
      "| 2255350 | -121112382.224 |                         | IEEE 802.15.4 |   96   |\n",
      "| 2212325 | -121112603.129 | 00:00:00:98:d0:7c:9a:61 | IEEE 802.15.4 |   96   |\n",
      "| 2170727 | -121112850.43  | 01:00:00:00:3e:be:80:70 | IEEE 802.15.4 |   96   |\n",
      "|  819351 | 453240.146507  |      147.32.84.160      |      TCP      |   62   |\n",
      "|  819352 | 453240.146514  |      147.32.84.160      |      TCP      |   62   |\n",
      "|  819384 | 453243.150744  |      147.32.84.160      |      TCP      |   62   |\n",
      "|  819385 | 453243.150747  |      147.32.84.160      |      TCP      |   62   |\n",
      "|  819616 | 453249.159548  |      147.32.84.160      |      TCP      |   62   |\n",
      "+---------+----------------+-------------------------+---------------+--------+\n",
      "+-------------+-------------+------------------+------------+\n",
      "| Source Port | Destination | Destination Port | udp_Length |\n",
      "+-------------+-------------+------------------+------------+\n",
      "|    49999    |             |      30319       |     36     |\n",
      "|    30319    |             |      49999       |     50     |\n",
      "|    30319    |             |      49999       |     50     |\n",
      "|    30319    |             |      49999       |     73     |\n",
      "|    30319    |             |      49999       |     71     |\n",
      "|    30319    |             |      49999       |     71     |\n",
      "|    30319    |             |      49999       |     71     |\n",
      "|    30319    |             |      49999       |     71     |\n",
      "|    30319    |             |      49999       |     71     |\n",
      "|    30319    |             |      49999       |    108     |\n",
      "|    49999    |             |      30319       |    282     |\n",
      "|    49999    |             |      30319       |    282     |\n",
      "|     1085    | 1.22.16.143 |       3128       |            |\n",
      "|     1085    | 1.22.16.143 |       3128       |            |\n",
      "|     1085    | 1.22.16.143 |       3128       |            |\n",
      "|     1085    | 1.22.16.143 |       3128       |            |\n",
      "|     1085    | 1.22.16.143 |       3128       |            |\n",
      "+-------------+-------------+------------------+------------+\n",
      "+-------------------------------+-------------------------------+-------------------------------+\n",
      "|       Protocols in frame      |              Info             | Differentiated Services Field |\n",
      "+-------------------------------+-------------------------------+-------------------------------+\n",
      "| eth:ethertype:ip:udp:nxp_8... |    Beacon[Malformed Packet]   |              0x00             |\n",
      "| eth:ethertype:ip:udp:nxp_8... |          Multipurpose         |              0x00             |\n",
      "| eth:ethertype:ip:udp:nxp_8... |          Multipurpose         |              0x00             |\n",
      "| eth:ethertype:ip:udp:nxp_8... |          Multipurpose         |              0x00             |\n",
      "| eth:ethertype:ip:udp:nxp_8... |          Multipurpose         |              0x00             |\n",
      "| eth:ethertype:ip:udp:nxp_8... |          Multipurpose         |              0x00             |\n",
      "| eth:ethertype:ip:udp:nxp_8... |          Multipurpose         |              0x00             |\n",
      "| eth:ethertype:ip:udp:nxp_8... |          Multipurpose         |              0x00             |\n",
      "| eth:ethertype:ip:udp:nxp_8... |          Multipurpose         |              0x00             |\n",
      "| eth:ethertype:ip:udp:nxp_8... |          Multipurpose         |              0x00             |\n",
      "| eth:ethertype:ip:udp:nxp_8... | Beacon, Src: 00:00:00_98:d... |              0x00             |\n",
      "| eth:ethertype:ip:udp:nxp_8... | Beacon, Src: 00:00:00_00:3... |              0x00             |\n",
      "|      eth:ethertype:ip:tcp     | 1085  >  3128 [SYN] Seq=0 ... |              0x00             |\n",
      "|      eth:ethertype:ip:tcp     | [TCP Out-Of-Order] 1085  >... |              0x00             |\n",
      "|      eth:ethertype:ip:tcp     | [TCP Retransmission] 1085 ... |              0x00             |\n",
      "|      eth:ethertype:ip:tcp     | [TCP Retransmission] 1085 ... |              0x00             |\n",
      "|      eth:ethertype:ip:tcp     | [TCP Retransmission] 1085 ... |              0x00             |\n",
      "+-------------------------------+-------------------------------+-------------------------------+\n",
      "+-----------------+----------------------+----------+-----------+------------+----------------------+\n",
      "| Sequence number | Next sequence number | IP_Flags | tcp_Flags | Answer RRs | Source GeoIP Country |\n",
      "+-----------------+----------------------+----------+-----------+------------+----------------------+\n",
      "|                 |                      |  0x0000  |     0     |            |                      |\n",
      "|                 |                      |  0x0000  |     0     |            |                      |\n",
      "|                 |                      |  0x0000  |     0     |            |                      |\n",
      "|                 |                      |  0x0000  |     0     |            |                      |\n",
      "|                 |                      |  0x0000  |     0     |            |                      |\n",
      "|                 |                      |  0x0000  |     0     |            |                      |\n",
      "|                 |                      |  0x0000  |     0     |            |                      |\n",
      "|                 |                      |  0x0000  |     0     |            |                      |\n",
      "|                 |                      |  0x0000  |     0     |            |                      |\n",
      "|                 |                      |  0x0000  |     0     |            |                      |\n",
      "|                 |                      |  0x0000  |     0     |            |                      |\n",
      "|                 |                      |  0x0000  |     0     |            |                      |\n",
      "|        0        |          0           |  0x4000  |     2     |            |                      |\n",
      "|        0        |          0           |  0x4000  |     2     |            |                      |\n",
      "|        0        |          0           |  0x4000  |     2     |            |                      |\n",
      "|        0        |          0           |  0x4000  |     2     |            |                      |\n",
      "|        0        |          0           |  0x4000  |     2     |            |                      |\n",
      "+-----------------+----------------------+----------+-----------+------------+----------------------+\n",
      "+-----------------------+------------------------+---------------------------+----------------------------+\n",
      "| Source GeoIP Latitude | Source GeoIP Longitude | Destination GeoIP Country | Destination GeoIP Latitude |\n",
      "+-----------------------+------------------------+---------------------------+----------------------------+\n",
      "|                       |                        |                           |                            |\n",
      "|                       |                        |                           |                            |\n",
      "|                       |                        |                           |                            |\n",
      "|                       |                        |                           |                            |\n",
      "|                       |                        |                           |                            |\n",
      "|                       |                        |                           |                            |\n",
      "|                       |                        |                           |                            |\n",
      "|                       |                        |                           |                            |\n",
      "|                       |                        |                           |                            |\n",
      "|                       |                        |                           |                            |\n",
      "|                       |                        |                           |                            |\n",
      "|                       |                        |                           |                            |\n",
      "|                       |                        |                           |                            |\n",
      "|                       |                        |                           |                            |\n",
      "|                       |                        |                           |                            |\n",
      "|                       |                        |                           |                            |\n",
      "|                       |                        |                           |                            |\n",
      "+-----------------------+------------------------+---------------------------+----------------------------+\n",
      "+-----------------------------+-----------------+--------------+-----+\n",
      "| Destination GeoIP Longitude | TCP Segment Len | Time to live | ... |\n",
      "+-----------------------------+-----------------+--------------+-----+\n",
      "|                             |                 |     107      | ... |\n",
      "|                             |                 |     127      | ... |\n",
      "|                             |                 |     127      | ... |\n",
      "|                             |                 |     127      | ... |\n",
      "|                             |                 |     127      | ... |\n",
      "|                             |                 |     127      | ... |\n",
      "|                             |                 |     127      | ... |\n",
      "|                             |                 |     127      | ... |\n",
      "|                             |                 |     127      | ... |\n",
      "|                             |                 |     127      | ... |\n",
      "|                             |                 |     107      | ... |\n",
      "|                             |                 |     112      | ... |\n",
      "|                             |        0        |     128      | ... |\n",
      "|                             |        0        |     128      | ... |\n",
      "|                             |        0        |     128      | ... |\n",
      "|                             |        0        |     128      | ... |\n",
      "|                             |        0        |     128      | ... |\n",
      "+-----------------------------+-----------------+--------------+-----+\n",
      "[9360525 rows x 39 columns]\n",
      "\n"
     ]
    }
   ],
   "source": [
    "SF_tr.print_rows(num_rows=17, num_columns=25)"
   ]
  },
  {
   "cell_type": "code",
   "execution_count": 32,
   "metadata": {
    "collapsed": false
   },
   "outputs": [
    {
     "name": "stdout",
     "output_type": "stream",
     "text": [
      "+---------+----------------+-------------------------+---------------+--------+\n",
      "|   No.   |      Time      |          Source         |    Protocol   | Length |\n",
      "+---------+----------------+-------------------------+---------------+--------+\n",
      "| 2255379 | -121112382.05  |                         | IEEE 802.15.4 |   70   |\n",
      "| 2145566 | -121113062.71  |                         | IEEE 802.15.4 |   88   |\n",
      "| 2145702 | -121113061.371 |                         | IEEE 802.15.4 |   84   |\n",
      "| 2152740 | -121113006.007 |                         | IEEE 802.15.4 |   96   |\n",
      "| 2153680 |  -121113001.2  |                         | IEEE 802.15.4 |   96   |\n",
      "| 2170704 | -121112850.576 |                         | IEEE 802.15.4 |   96   |\n",
      "| 2180568 | -121112781.031 |                         | IEEE 802.15.4 |   96   |\n",
      "| 2196536 | -121112679.898 |                         | IEEE 802.15.4 |   96   |\n",
      "| 2212282 | -121112603.31  |                         | IEEE 802.15.4 |   96   |\n",
      "| 2255350 | -121112382.224 |                         | IEEE 802.15.4 |   96   |\n",
      "| 2212325 | -121112603.129 | 00:00:00:98:d0:7c:9a:61 | IEEE 802.15.4 |   96   |\n",
      "| 2170727 | -121112850.43  | 01:00:00:00:3e:be:80:70 | IEEE 802.15.4 |   96   |\n",
      "|  819351 | 453240.146507  |      147.32.84.160      |      TCP      |   62   |\n",
      "|  819352 | 453240.146514  |      147.32.84.160      |      TCP      |   62   |\n",
      "|  819384 | 453243.150744  |      147.32.84.160      |      TCP      |   62   |\n",
      "|  819385 | 453243.150747  |      147.32.84.160      |      TCP      |   62   |\n",
      "|  819616 | 453249.159548  |      147.32.84.160      |      TCP      |   62   |\n",
      "|  819617 | 453249.159556  |      147.32.84.160      |      TCP      |   62   |\n",
      "|  819151 | 453192.242578  |      147.32.84.160      |      TCP      |   62   |\n",
      "|  819152 | 453192.242585  |      147.32.84.160      |      TCP      |   62   |\n",
      "|  819178 | 453195.182192  |      147.32.84.160      |      TCP      |   62   |\n",
      "|  819179 | 453195.182195  |      147.32.84.160      |      TCP      |   62   |\n",
      "|  819198 | 453201.190982  |      147.32.84.160      |      TCP      |   62   |\n",
      "|  819199 | 453201.190993  |      147.32.84.160      |      TCP      |   62   |\n",
      "|  863797 | 454236.789884  |      147.32.84.160      |      TCP      |   62   |\n",
      "+---------+----------------+-------------------------+---------------+--------+\n",
      "+-------------+-----------------+------------------+------------+\n",
      "| Source Port |   Destination   | Destination Port | udp_Length |\n",
      "+-------------+-----------------+------------------+------------+\n",
      "|    49999    |                 |      30319       |     36     |\n",
      "|    30319    |                 |      49999       |     50     |\n",
      "|    30319    |                 |      49999       |     50     |\n",
      "|    30319    |                 |      49999       |     73     |\n",
      "|    30319    |                 |      49999       |     71     |\n",
      "|    30319    |                 |      49999       |     71     |\n",
      "|    30319    |                 |      49999       |     71     |\n",
      "|    30319    |                 |      49999       |     71     |\n",
      "|    30319    |                 |      49999       |     71     |\n",
      "|    30319    |                 |      49999       |    108     |\n",
      "|    49999    |                 |      30319       |    282     |\n",
      "|    49999    |                 |      30319       |    282     |\n",
      "|     1085    |   1.22.16.143   |       3128       |            |\n",
      "|     1085    |   1.22.16.143   |       3128       |            |\n",
      "|     1085    |   1.22.16.143   |       3128       |            |\n",
      "|     1085    |   1.22.16.143   |       3128       |            |\n",
      "|     1085    |   1.22.16.143   |       3128       |            |\n",
      "|     1085    |   1.22.16.143   |       3128       |            |\n",
      "|     1066    | 109.200.239.148 |       3128       |            |\n",
      "|     1066    | 109.200.239.148 |       3128       |            |\n",
      "|     1066    | 109.200.239.148 |       3128       |            |\n",
      "|     1066    | 109.200.239.148 |       3128       |            |\n",
      "|     1066    | 109.200.239.148 |       3128       |            |\n",
      "|     1066    | 109.200.239.148 |       3128       |            |\n",
      "|     2218    | 109.200.239.148 |       6667       |            |\n",
      "+-------------+-----------------+------------------+------------+\n",
      "+-------------------------------+-------------------------------+-------------------------------+\n",
      "|       Protocols in frame      |              Info             | Differentiated Services Field |\n",
      "+-------------------------------+-------------------------------+-------------------------------+\n",
      "| eth:ethertype:ip:udp:nxp_8... |    Beacon[Malformed Packet]   |              0x00             |\n",
      "| eth:ethertype:ip:udp:nxp_8... |          Multipurpose         |              0x00             |\n",
      "| eth:ethertype:ip:udp:nxp_8... |          Multipurpose         |              0x00             |\n",
      "| eth:ethertype:ip:udp:nxp_8... |          Multipurpose         |              0x00             |\n",
      "| eth:ethertype:ip:udp:nxp_8... |          Multipurpose         |              0x00             |\n",
      "| eth:ethertype:ip:udp:nxp_8... |          Multipurpose         |              0x00             |\n",
      "| eth:ethertype:ip:udp:nxp_8... |          Multipurpose         |              0x00             |\n",
      "| eth:ethertype:ip:udp:nxp_8... |          Multipurpose         |              0x00             |\n",
      "| eth:ethertype:ip:udp:nxp_8... |          Multipurpose         |              0x00             |\n",
      "| eth:ethertype:ip:udp:nxp_8... |          Multipurpose         |              0x00             |\n",
      "| eth:ethertype:ip:udp:nxp_8... | Beacon, Src: 00:00:00_98:d... |              0x00             |\n",
      "| eth:ethertype:ip:udp:nxp_8... | Beacon, Src: 00:00:00_00:3... |              0x00             |\n",
      "|      eth:ethertype:ip:tcp     | 1085  >  3128 [SYN] Seq=0 ... |              0x00             |\n",
      "|      eth:ethertype:ip:tcp     | [TCP Out-Of-Order] 1085  >... |              0x00             |\n",
      "|      eth:ethertype:ip:tcp     | [TCP Retransmission] 1085 ... |              0x00             |\n",
      "|      eth:ethertype:ip:tcp     | [TCP Retransmission] 1085 ... |              0x00             |\n",
      "|      eth:ethertype:ip:tcp     | [TCP Retransmission] 1085 ... |              0x00             |\n",
      "|      eth:ethertype:ip:tcp     | [TCP Retransmission] 1085 ... |              0x00             |\n",
      "|      eth:ethertype:ip:tcp     | 1066  >  3128 [SYN] Seq=0 ... |              0x00             |\n",
      "|      eth:ethertype:ip:tcp     | [TCP Out-Of-Order] 1066  >... |              0x00             |\n",
      "|      eth:ethertype:ip:tcp     | [TCP Retransmission] 1066 ... |              0x00             |\n",
      "|      eth:ethertype:ip:tcp     | [TCP Retransmission] 1066 ... |              0x00             |\n",
      "|      eth:ethertype:ip:tcp     | [TCP Retransmission] 1066 ... |              0x00             |\n",
      "|      eth:ethertype:ip:tcp     | [TCP Retransmission] 1066 ... |              0x00             |\n",
      "|      eth:ethertype:ip:tcp     | 2218  >  6667 [SYN] Seq=0 ... |              0x00             |\n",
      "+-------------------------------+-------------------------------+-------------------------------+\n",
      "+-----------------+----------------------+----------+-----------+------------+-----+\n",
      "| Sequence number | Next sequence number | IP_Flags | tcp_Flags | Answer RRs | ... |\n",
      "+-----------------+----------------------+----------+-----------+------------+-----+\n",
      "|                 |                      |  0x0000  |     0     |            | ... |\n",
      "|                 |                      |  0x0000  |     0     |            | ... |\n",
      "|                 |                      |  0x0000  |     0     |            | ... |\n",
      "|                 |                      |  0x0000  |     0     |            | ... |\n",
      "|                 |                      |  0x0000  |     0     |            | ... |\n",
      "|                 |                      |  0x0000  |     0     |            | ... |\n",
      "|                 |                      |  0x0000  |     0     |            | ... |\n",
      "|                 |                      |  0x0000  |     0     |            | ... |\n",
      "|                 |                      |  0x0000  |     0     |            | ... |\n",
      "|                 |                      |  0x0000  |     0     |            | ... |\n",
      "|                 |                      |  0x0000  |     0     |            | ... |\n",
      "|                 |                      |  0x0000  |     0     |            | ... |\n",
      "|        0        |          0           |  0x4000  |     2     |            | ... |\n",
      "|        0        |          0           |  0x4000  |     2     |            | ... |\n",
      "|        0        |          0           |  0x4000  |     2     |            | ... |\n",
      "|        0        |          0           |  0x4000  |     2     |            | ... |\n",
      "|        0        |          0           |  0x4000  |     2     |            | ... |\n",
      "|        0        |          0           |  0x4000  |     2     |            | ... |\n",
      "|        0        |          0           |  0x4000  |     2     |            | ... |\n",
      "|        0        |          0           |  0x4000  |     2     |            | ... |\n",
      "|        0        |          0           |  0x4000  |     2     |            | ... |\n",
      "|        0        |          0           |  0x4000  |     2     |            | ... |\n",
      "|        0        |          0           |  0x4000  |     2     |            | ... |\n",
      "|        0        |          0           |  0x4000  |     2     |            | ... |\n",
      "|        0        |          0           |  0x4000  |     2     |            | ... |\n",
      "+-----------------+----------------------+----------+-----------+------------+-----+\n",
      "[9360525 rows x 39 columns]\n",
      "\n"
     ]
    }
   ],
   "source": [
    "SF_tr.print_rows(num_rows=25, num_columns=17)"
   ]
  },
  {
   "cell_type": "code",
   "execution_count": 33,
   "metadata": {
    "collapsed": false
   },
   "outputs": [
    {
     "name": "stdout",
     "output_type": "stream",
     "text": [
      "9360525\n",
      "9360525\n",
      "HTTP URL-encodings in frame.protocols: 0\n",
      "TCP in frame.protocols: 5398\n",
      "HTTP data in frame.protocols: 0\n",
      "9360525\n",
      "0\n"
     ]
    }
   ],
   "source": [
    "features = ['Answer RRs',\n",
    " 'BytesEx',\n",
    " 'Destination',\n",
    " 'Destination Port',\n",
    " 'Differentiated Services Field',\n",
    " 'Duration',\n",
    " 'FPL',\n",
    " 'IP_Flags',\n",
    " 'Info',\n",
    " 'Length',\n",
    " 'Next sequence number',\n",
    " 'No.',\n",
    " 'NumPackets',\n",
    " 'Protocol',\n",
    " 'Protocols in frame',\n",
    " 'SameLenPktRatio',\n",
    " 'Sequence number',\n",
    " 'Source',\n",
    " 'Source Port',\n",
    " 'StdDevLen',\n",
    " 'TCP Segment Len',\n",
    " 'Time',\n",
    " 'Time to live',\n",
    " 'isBot',\n",
    " 'tcp_Flags',\n",
    " 'FlowNo.',\n",
    " 'udp_Length',\n",
    " 'IOPR']\n",
    "SF_tr = SF_tr[features]\n",
    "\n",
    "# Average packets per second\n",
    "temp =  SF_tr.groupby(['FlowNo.'],{\n",
    "        'NumPackets':gl.aggregate.COUNT()\n",
    "    })\n",
    "temp = temp.join(timeF,on=['FlowNo.'])\n",
    "temp['AvgPktPerSec'] = temp.apply(lambda x:0.0 if x['Duration'] == 0.0 else x['NumPackets']*1.0/x['Duration'])\n",
    "temp = temp[['FlowNo.','AvgPktPerSec']]\n",
    "SF_tr = SF_tr.join(temp, on ='FlowNo.')\n",
    "\n",
    "\n",
    "# Average Bits Per Second\n",
    "temp = SF_tr.groupby(['FlowNo.'],{\n",
    "        'BytesEx':gl.aggregate.SUM('Length')\n",
    "    })\n",
    "temp = temp.join(timeF,on=['FlowNo.'])\n",
    "temp['BitsPerSec'] = temp.apply( lambda x:0.0 if x['Duration'] == 0.0 else (x['BytesEx'] * 8.0)/x['Duration'] )\n",
    "temp = temp[['FlowNo.', 'BitsPerSec']]\n",
    "SF_tr = SF_tr.join(temp, on ='FlowNo.')\n",
    "\n",
    "\n",
    "# Average Packet Lentgth\n",
    "temp = SF_tr.groupby(['FlowNo.'],{\n",
    "        'APL':gl.aggregate.AVG('Length')\n",
    "    })\n",
    "SF_tr = SF_tr.join(temp, on ='FlowNo.')\n",
    "\n",
    "# Number of Reconnects, sort FlowNo, SeqNo\n",
    "def tfn(x):\n",
    "    if 'udp' in x.split(':') or 'tcp' in x.split(':'): # 'smb' protocols can be considered \n",
    "        return 1\n",
    "    return 0\n",
    "temp = list(SF_tr['Protocols in frame'].apply(lambda x:tfn(x)))\n",
    "\n",
    "print len(temp)\n",
    "\n",
    "print sum(temp)\n",
    "\n",
    "\n",
    "print('HTTP URL-encodings in frame.protocols: {}'.format(len(SF_tr[SF_tr['Protocols in frame'] == 'eth:ethertype:ip:icmp:ip:tcp:http:urlencoded-form'])))\n",
    "print('TCP in frame.protocols: {}'.format(len(SF_tr[SF_tr['Protocols in frame'] == 'eth:ethertype:ip:icmp:ip:tcp'])))\n",
    "print('HTTP data in frame.protocols: {}'.format(len(SF_tr[SF_tr['Protocols in frame'] == 'eth:ethertype:ip:icmp:ip:tcp:http:data'])))\n",
    "\n",
    "# Inter-arrival time\n",
    "SF_tr['IAT'] = 0\n",
    "SF_tr = SF_tr.sort(['FlowNo.','Time'])\n",
    "prev = None\n",
    "prevT = None\n",
    "li = []\n",
    "for x in SF_tr:\n",
    "    if prev is None or x['FlowNo.'] != prev:\n",
    "        li.append(0)\n",
    "    else:\n",
    "        li.append(x['Time'] - prevT)        \n",
    "    prev = x['FlowNo.']\n",
    "    prevT = x['Time']\n",
    "SF_tr['IAT'] = gl.SArray(li)\n",
    "\n",
    "print len(SF_tr)\n",
    "\n",
    "\n",
    "print len(SF_tr[SF_tr['Protocols in frame'] == 'eth:ipx']) # internet packet exchange"
   ]
  },
  {
   "cell_type": "code",
   "execution_count": 36,
   "metadata": {
    "collapsed": false
   },
   "outputs": [
    {
     "name": "stdout",
     "output_type": "stream",
     "text": [
      "9360525\n",
      "-121117184.726 780231.692992\n"
     ]
    }
   ],
   "source": [
    "# SF_tr.save('Bidirectional_Train_Bot_features_till_IAT.csv')\n",
    "\n",
    "# Number of TCP Null packets\n",
    "\n",
    "# Null Packets handling\n",
    "def checkNull(x):\n",
    "    if( x['TCP Segment Len'] == '0' or x['udp_Length'] == 8 ):\n",
    "        return 1\n",
    "    elif('ipx' in x['Protocols in frame'].split(':')):\n",
    "        l = x['Length'] - 30\n",
    "        if('eth' in x['Protocols in frame'].split(':')):\n",
    "            l = l - 14\n",
    "        if('ethtype' in x['Protocols in frame'].split(':')):\n",
    "            l = l - 2\n",
    "        if('llc' in x['Protocols in frame'].split(':')):\n",
    "            l = l - 8\n",
    "        if(l == 0 or l == -1):\n",
    "            return 1\n",
    "    return 0\n",
    "\n",
    "SF_tr['isNull'] = SF_tr.apply(lambda x:checkNull(x))\n",
    "\n",
    "NPEx = SF_tr.groupby(['FlowNo.'],{\n",
    "        'NPEx':gl.aggregate.SUM('isNull')\n",
    "    })\n",
    "SF_tr = SF_tr.join(NPEx, on ='FlowNo.')\n",
    "\n",
    "\n",
    "# Number of Reconnects - considering only TCP reconnects, using sequence number\n",
    "recon = SF_tr[SF_tr['Sequence number'] != ''].groupby(['FlowNo.'],{\n",
    "        'total_seq_no.' : gl.aggregate.COUNT('Sequence number'),\n",
    "        'distinct_seq_no.' : gl.aggregate.COUNT_DISTINCT('Sequence number')\n",
    "    })\n",
    "recon['reconnects'] = recon['total_seq_no.'] - recon['distinct_seq_no.']\n",
    "recon.head()\n",
    "recon = recon[['FlowNo.','reconnects']]\n",
    "SF_tr = SF_tr.join(recon, on='FlowNo.', how='left')\n",
    "\n",
    "print len(SF_tr)\n",
    "\n",
    "# To identify records where reconnect check was not applied, such as UDP, etc\n",
    "SF_tr.fillna('reconnects',-1)\n",
    "\n",
    "# A lot of these reconnects can be simple retransmissions - due to out of order/timeout etc\n",
    "print min(SF_tr['Time']), max(SF_tr['Time'])"
   ]
  },
  {
   "cell_type": "code",
   "execution_count": 37,
   "metadata": {
    "collapsed": true
   },
   "outputs": [],
   "source": [
    "features = SF_tr.column_names()"
   ]
  },
  {
   "cell_type": "code",
   "execution_count": 38,
   "metadata": {
    "collapsed": false
   },
   "outputs": [
    {
     "data": {
      "text/plain": [
       "['Answer RRs',\n",
       " 'BytesEx',\n",
       " 'Destination',\n",
       " 'Destination Port',\n",
       " 'Differentiated Services Field',\n",
       " 'Duration',\n",
       " 'FPL',\n",
       " 'IP_Flags',\n",
       " 'Info',\n",
       " 'Length',\n",
       " 'Next sequence number',\n",
       " 'No.',\n",
       " 'NumPackets',\n",
       " 'Protocol',\n",
       " 'Protocols in frame',\n",
       " 'SameLenPktRatio',\n",
       " 'Sequence number',\n",
       " 'Source',\n",
       " 'Source Port',\n",
       " 'StdDevLen',\n",
       " 'TCP Segment Len',\n",
       " 'Time',\n",
       " 'Time to live',\n",
       " 'isBot',\n",
       " 'tcp_Flags',\n",
       " 'FlowNo.',\n",
       " 'udp_Length',\n",
       " 'IOPR',\n",
       " 'AvgPktPerSec',\n",
       " 'BitsPerSec',\n",
       " 'APL',\n",
       " 'IAT',\n",
       " 'isNull',\n",
       " 'NPEx',\n",
       " 'reconnects']"
      ]
     },
     "execution_count": 38,
     "metadata": {},
     "output_type": "execute_result"
    }
   ],
   "source": [
    "features"
   ]
  },
  {
   "cell_type": "code",
   "execution_count": null,
   "metadata": {
    "collapsed": true
   },
   "outputs": [],
   "source": [
    "# Bidirectional Flows combining all features and labels\n",
    "SF_tr.save('bidirectional_train_botnet_all_features.csv')"
   ]
  }
 ],
 "metadata": {
  "kernelspec": {
   "display_name": "Python 2",
   "language": "python",
   "name": "python2"
  },
  "language_info": {
   "codemirror_mode": {
    "name": "ipython",
    "version": 2
   },
   "file_extension": ".py",
   "mimetype": "text/x-python",
   "name": "python",
   "nbconvert_exporter": "python",
   "pygments_lexer": "ipython2",
   "version": "2.7.13"
  }
 },
 "nbformat": 4,
 "nbformat_minor": 0
}
